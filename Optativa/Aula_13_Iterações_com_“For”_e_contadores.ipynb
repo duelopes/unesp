{
  "nbformat": 4,
  "nbformat_minor": 0,
  "metadata": {
    "colab": {
      "provenance": []
    },
    "kernelspec": {
      "name": "python3",
      "display_name": "Python 3"
    },
    "language_info": {
      "name": "python"
    }
  },
  "cells": [
    {
      "cell_type": "markdown",
      "source": [
        "\n",
        "\n",
        "*   **Nome:** Eduardo Lopes de Oliveira\n",
        "*   **RA:** 161490336\n"
      ],
      "metadata": {
        "id": "Uu5p2fIpsYxr"
      }
    },
    {
      "cell_type": "markdown",
      "source": [
        "#Exercício 1 - De Volta ao \"For\""
      ],
      "metadata": {
        "id": "nT1HrQkWWD0O"
      }
    },
    {
      "cell_type": "markdown",
      "source": [
        "Desenvolva um algoritmo que imprima três gráfico em uma só linha de uma figura, ponto a ponto, utilizando-se somente um \"for\". O primeiro gráfico será os valores numéricos do iterável \"n\" do \"for\", o segundo gráfico será o argumento \"x\" de uma função (de 0 a 1, com 11 valores), e o terceiro gráfico será a função \"f(x) = x ao quadrado\".\n",
        "\n",
        "OBS1: Para se imprimir a função, defina ela antes, no início do programa, e vá chamando-a ao longo do \"for\".\n",
        "OBS2: Utilize o iterável como \"eixo x\" de cada um dos gráficos, e o mais importante, interprete os valores do gráfico, e escreva uma breve discussão sobre a diferença entre \"x\", o valor do iterável e \"f(x)\" nesse caso, e sobre a diferença entre \"f[n]\" e \"f[x]\""
      ],
      "metadata": {
        "id": "379wVNQoWIu1"
      }
    },
    {
      "cell_type": "markdown",
      "source": [
        "## Resposta"
      ],
      "metadata": {
        "id": "_hIaTF9Vgbh8"
      }
    },
    {
      "cell_type": "markdown",
      "source": [
        "- \"x\" e \"f(x)\" são variáveis e funções, respectivamente, enquanto \"f[n]\" e \"f[x]\" são acessos a elementos específicos do vetor \"f\", dependendo do valor da variável de iteração no loop (neste caso, \"n\" ou \"x\").\n",
        "\n",
        "\n",
        "\n",
        "\n"
      ],
      "metadata": {
        "id": "jSyE_vA-ZDUg"
      }
    },
    {
      "cell_type": "code",
      "execution_count": null,
      "metadata": {
        "colab": {
          "base_uri": "https://localhost:8080/",
          "height": 493
        },
        "id": "mCKmz6jwVuei",
        "outputId": "ad48c8c1-82d8-4630-c304-7432d8f11b7d"
      },
      "outputs": [
        {
          "output_type": "display_data",
          "data": {
            "text/plain": [
              "<Figure size 640x480 with 3 Axes>"
            ],
            "image/png": "[encoded data removed]"
          },
          "metadata": {}
        }
      ],
      "source": [
        "import matplotlib.pyplot as plt\n",
        "import numpy as np\n",
        "\n",
        "x = np.linspace(0, 1, 11)\n",
        "fig, ax = plt.subplots(1, 3)\n",
        "f = x**2\n",
        "\n",
        "for n in range(len(x)):\n",
        "  ax[0].plot(n, n, marker='s', markersize=4.0, color='blue')\n",
        "  ax[0].set_xlabel('n')\n",
        "  ax[0].set_ylabel('n')\n",
        "\n",
        "  ax[1].plot(n, x[n], marker='s', markersize=4.0, color='red')\n",
        "  ax[1].set_xlabel('n')\n",
        "  ax[1].set_ylabel('x')\n",
        "\n",
        "  ax[2].plot(n, f[n], marker='s', markersize=4.0, color='black')\n",
        "  ax[2].set_xlabel('n')\n",
        "  ax[2].set_ylabel('f(n)')\n",
        "\n",
        "fig.suptitle('Resultado do Exercício', fontsize=14)\n",
        "plt.tight_layout(pad=1.0)\n",
        "plt.show()"
      ]
    },
    {
      "cell_type": "markdown",
      "source": [
        "# Exercício 2 - De Volta ao Laço \"For\""
      ],
      "metadata": {
        "id": "jvvaKN5qkzQU"
      }
    },
    {
      "cell_type": "markdown",
      "source": [
        "Desenvolva um algoritmo que imprima uma matriz com o número de linhas e de colunas variável (posso mudar o número de linhas ou colunas mudando-se variáveis numéricos). Adicione elementos à essa matriz, elemento a elemento, sendo que os elementos a serem adicionados sigam um função quadrática \"f(x) = x**2\", com argumento \"x\" indo de 0 à 10. Por exemplo, uma matriz 2x2 ficará como segue [[0 11.1][44.4 100]]\n",
        "\n",
        "Dica: Utilize um contador, por exemplo \"count\", que iniciará em zero e sera acrescido de 1 em 1, para contar quantos itens já foram adicionados à matriz, e servir de argumentos para a função 'f[n]'."
      ],
      "metadata": {
        "id": "cLxhcYtVk-4n"
      }
    },
    {
      "cell_type": "code",
      "source": [
        "import matplotlib.pyplot as plt\n",
        "import numpy as np\n",
        "\n",
        "linhas = int(input('Qual o número de linhas e colunas? '))\n",
        "colunas = linhas\n",
        "matriz = np.zeros((linhas, colunas))\n",
        "x = np.linspace(0, 10, colunas**2)\n",
        "count = 0\n",
        "\n",
        "for linha in range(linhas):\n",
        "    for coluna in range(colunas):\n",
        "        matriz[linha, coluna] = x[count]**2\n",
        "        count += 1\n",
        "\n",
        "print(matriz)"
      ],
      "metadata": {
        "id": "LHRq6bChcty-",
        "colab": {
          "base_uri": "https://localhost:8080/"
        },
        "outputId": "b9ed47ab-838b-41e4-872c-7cd7489235e3"
      },
      "execution_count": null,
      "outputs": [
        {
          "output_type": "stream",
          "name": "stdout",
          "text": [
            "Qual o número de linhas e colunas? 3\n",
            "[[  0.       1.5625   6.25  ]\n",
            " [ 14.0625  25.      39.0625]\n",
            " [ 56.25    76.5625 100.    ]]\n"
          ]
        }
      ]
    },
    {
      "cell_type": "markdown",
      "source": [
        "## Resolução do professor"
      ],
      "metadata": {
        "id": "I7MMK2uTj7FG"
      }
    },
    {
      "cell_type": "code",
      "source": [
        "import matplotlib.pyplot as plt\n",
        "import numpy as np\n",
        "\n",
        "linhas = 3\n",
        "colunas = 3\n",
        "x = np.linspace(0, 10, linhas*colunas)\n",
        "f = x**2\n",
        "\n",
        "matriz = np.zeros([linhas, colunas])\n",
        "\n",
        "for l in range(linhas):\n",
        "    for c in range(colunas):\n",
        "      matriz[l, c] = f[l*colunas+c]\n",
        "\n",
        "print(matriz)"
      ],
      "metadata": {
        "colab": {
          "base_uri": "https://localhost:8080/"
        },
        "id": "aDXnNOavdYAE",
        "outputId": "a7f8f777-4e2d-4588-fd43-bd2333c868a9"
      },
      "execution_count": null,
      "outputs": [
        {
          "output_type": "stream",
          "name": "stdout",
          "text": [
            "[[  0.       1.5625   6.25  ]\n",
            " [ 14.0625  25.      39.0625]\n",
            " [ 56.25    76.5625 100.    ]]\n"
          ]
        }
      ]
    },
    {
      "cell_type": "markdown",
      "source": [
        "# Exercício - Repita o exercício anterior sem usar o laço \"For\""
      ],
      "metadata": {
        "id": "NCMuSJWGmq77"
      }
    },
    {
      "cell_type": "code",
      "source": [
        "import matplotlib.pyplot as plt\n",
        "import numpy as np\n",
        "\n",
        "linhas = int(input('Qual o número de linhas e colunas? '))\n",
        "colunas = linhas\n",
        "matriz = np.zeros((linhas, colunas))\n",
        "x = np.linspace(0, 10, colunas**2)\n",
        "count = 0\n",
        "\n",
        "linha = 0\n",
        "coluna = 0\n",
        "\n",
        "while linha < linhas:\n",
        "    while coluna < colunas:\n",
        "        matriz[linha, coluna] = x[count]**2\n",
        "        count += 1\n",
        "        coluna += 1\n",
        "    linha += 1\n",
        "    coluna = 0\n",
        "\n",
        "print(matriz)"
      ],
      "metadata": {
        "colab": {
          "base_uri": "https://localhost:8080/"
        },
        "id": "p3XJwSGmoKLb",
        "outputId": "0dba4410-c1d4-44a1-9ce3-a5526bdba69d"
      },
      "execution_count": null,
      "outputs": [
        {
          "output_type": "stream",
          "name": "stdout",
          "text": [
            "Qual o número de linhas e colunas? 3\n",
            "[[  0.       1.5625   6.25  ]\n",
            " [ 14.0625  25.      39.0625]\n",
            " [ 56.25    76.5625 100.    ]]\n"
          ]
        }
      ]
    },
    {
      "cell_type": "code",
      "source": [],
      "metadata": {
        "id": "Cm0EP3njtJ36"
      },
      "execution_count": null,
      "outputs": []
    }
  ]
}