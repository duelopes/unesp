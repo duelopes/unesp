{
  "nbformat": 4,
  "nbformat_minor": 0,
  "metadata": {
    "colab": {
      "provenance": []
    },
    "kernelspec": {
      "name": "python3",
      "display_name": "Python 3"
    },
    "language_info": {
      "name": "python"
    }
  },
  "cells": [
    {
      "cell_type": "markdown",
      "source": [
        "\n",
        "\n",
        "*   **Nome:** Eduardo Lopes de Oliveira\n",
        "*   **RA:** 161490336\n"
      ],
      "metadata": {
        "id": "hXyJkAJhKfrG"
      }
    },
    {
      "cell_type": "code",
      "execution_count": null,
      "metadata": {
        "colab": {
          "base_uri": "https://localhost:8080/"
        },
        "id": "SCvF_jBQInC9",
        "outputId": "e4151db4-83a6-4b01-bcdf-6bb37090b75f"
      },
      "outputs": [
        {
          "output_type": "stream",
          "name": "stdout",
          "text": [
            "[[[5. 9. 0.]\n",
            "  [0. 0. 0.]\n",
            "  [0. 0. 0.]]\n",
            "\n",
            " [[4. 5. 1.]\n",
            "  [0. 0. 0.]\n",
            "  [0. 0. 0.]]\n",
            "\n",
            " [[8. 0. 0.]\n",
            "  [0. 0. 0.]\n",
            "  [0. 0. 0.]]]\n"
          ]
        }
      ],
      "source": [
        "import numpy as np\n",
        "import random\n",
        "\n",
        "array = np.zeros([3,3,3])\n",
        "\n",
        "flag = False\n",
        "for a in range(0,3):\n",
        "    for l in range (0,3):\n",
        "        for c in range (0,3):\n",
        "            item = random.randint(1,10)\n",
        "            array [a, l, c] = item\n",
        "            if np.mean(array[a,l,c])>5:\n",
        "                flag = True\n",
        "                break\n",
        "        if flag == True:\n",
        "            break\n",
        "        else :\n",
        "            print(f'linha {l+1} concluida')\n",
        "\n",
        "print(array)"
      ]
    },
    {
      "cell_type": "code",
      "source": [],
      "metadata": {
        "id": "7bQqx2ehM18n"
      },
      "execution_count": null,
      "outputs": []
    },
    {
      "cell_type": "markdown",
      "source": [
        "# Algumas Estrutus de Dado - Listas, Dicionários e Tuplas"
      ],
      "metadata": {
        "id": "TukZOypBM9DH"
      }
    },
    {
      "cell_type": "code",
      "source": [
        "# String\n",
        "nome = 'João'\n",
        "frase = nome + ' é de Telecom'\n",
        "print(frase[0:4])"
      ],
      "metadata": {
        "colab": {
          "base_uri": "https://localhost:8080/"
        },
        "id": "11vlY8pFNCIX",
        "outputId": "1d14c058-7ad0-4617-ccfd-21e1a8afaefe"
      },
      "execution_count": null,
      "outputs": [
        {
          "output_type": "stream",
          "name": "stdout",
          "text": [
            "João\n"
          ]
        }
      ]
    },
    {
      "cell_type": "code",
      "source": [
        "# Listas\n",
        "lista = ['João', int(5), 2/3]\n",
        "\n",
        "lista.append('Maria')\n",
        "lista.append(1.5)\n",
        "\n",
        "lista.pop(3) #Remove o item da 4ª posição, no caso Maria\n",
        "lista.remove('João')\n",
        "print(lista)"
      ],
      "metadata": {
        "colab": {
          "base_uri": "https://localhost:8080/"
        },
        "id": "QLs4Di4nNqs2",
        "outputId": "27c60553-14c8-404e-bf63-6b6fc9f0afc9"
      },
      "execution_count": null,
      "outputs": [
        {
          "output_type": "stream",
          "name": "stdout",
          "text": [
            "[5, 0.6666666666666666, 1.5]\n"
          ]
        }
      ]
    },
    {
      "cell_type": "code",
      "source": [
        "# Dicionário\n",
        "\n",
        "dicionario = {'cor':'vermelho',\n",
        "              'ano':2018}\n",
        "dicionario = dict(name = 'João', idade = 36)\n",
        "\n",
        "carro = {\n",
        "    'marca' : 'Ford',\n",
        "    'eletrico' : False,\n",
        "    'ano' : 2020,\n",
        "    'cor' : ['vermelhor', 'prata', 'preto']\n",
        "\n",
        "}\n",
        "\n",
        "print('Esse carro é da marca', carro['marca'], 'e do ano', carro['ano'])\n",
        "\n",
        "print(dicionario)\n",
        "print(dicionario['name'])\n",
        "print(dicionario['name'][0])"
      ],
      "metadata": {
        "colab": {
          "base_uri": "https://localhost:8080/"
        },
        "id": "DjG4Qv3NOBQM",
        "outputId": "d4e99ece-705b-494a-e8e6-9bb0af0002c1"
      },
      "execution_count": null,
      "outputs": [
        {
          "output_type": "stream",
          "name": "stdout",
          "text": [
            "Esse carro é da marca Ford e do ano 2020\n",
            "{'name': 'João', 'idade': 36}\n",
            "João\n",
            "J\n"
          ]
        }
      ]
    },
    {
      "cell_type": "code",
      "source": [
        "# Tupla\n",
        "\n",
        "tupla = (1, 2, 3)\n",
        "tupla = ('João', 1, 2, 2/3)\n",
        "\n",
        "print(tupla)\n",
        "print(tupla[0])"
      ],
      "metadata": {
        "colab": {
          "base_uri": "https://localhost:8080/"
        },
        "id": "sKofF4EJPOgZ",
        "outputId": "96ac1342-ee42-4b75-e4a5-b2c225bf27cb"
      },
      "execution_count": null,
      "outputs": [
        {
          "output_type": "stream",
          "name": "stdout",
          "text": [
            "('João', 1, 2, 0.6666666666666666)\n",
            "João\n"
          ]
        }
      ]
    },
    {
      "cell_type": "markdown",
      "source": [
        "# Utilizando-se Funções no Python"
      ],
      "metadata": {
        "id": "EZAV7DhzSqIv"
      }
    },
    {
      "cell_type": "code",
      "source": [
        "def funtion(name):\n",
        "  print('Seu nome é', name)\n",
        "\n",
        "a = 'Maria'\n",
        "\n",
        "funtion(a)"
      ],
      "metadata": {
        "colab": {
          "base_uri": "https://localhost:8080/"
        },
        "id": "yOM5qk2tRS_u",
        "outputId": "81099b5b-d3f7-41d0-f100-e4991ecb2bad"
      },
      "execution_count": null,
      "outputs": [
        {
          "output_type": "stream",
          "name": "stdout",
          "text": [
            "Seu nome é Maria\n"
          ]
        }
      ]
    },
    {
      "cell_type": "code",
      "source": [
        "def operacao(n1, n2, operador):\n",
        "  a = int(n1)\n",
        "  b = int(n2)\n",
        "  if operador == 'soma':\n",
        "    return a + b\n",
        "  if operador == 'multiplição':\n",
        "    return a*b\n",
        "  else:\n",
        "    print('Não temos essa operação')\n",
        "\n",
        "\n",
        "operacao(2, 3, 'soma')"
      ],
      "metadata": {
        "colab": {
          "base_uri": "https://localhost:8080/"
        },
        "id": "dJspYla3S8sx",
        "outputId": "32707fc1-18d9-4a37-b68e-f53b532dd77f"
      },
      "execution_count": null,
      "outputs": [
        {
          "output_type": "execute_result",
          "data": {
            "text/plain": [
              "5"
            ]
          },
          "metadata": {},
          "execution_count": 17
        }
      ]
    },
    {
      "cell_type": "markdown",
      "source": [
        "#Exercício - Como Utilizar Funções"
      ],
      "metadata": {
        "id": "k-DqUXleU-Rt"
      }
    },
    {
      "cell_type": "markdown",
      "source": [
        "Crie uma lista com diversos elementos de uma sacola de compras. Utilize uma função para se remover os itens da sacola que o usuário quiser remover. Interaja com o usuário por meio do comando 'input' três vezes.\n",
        "Caso o usuário escolha 'qualquer', remove o último item da sacola."
      ],
      "metadata": {
        "id": "9xUytN4iVFU8"
      }
    },
    {
      "cell_type": "code",
      "source": [
        "lista = ['Caderno', 'Lápis', 'Caneta', 'Borracha', 'Calculadora']\n",
        "\n",
        "def tirar(item):\n",
        "  lista.remove(str(item))\n",
        "\n",
        "contagem = 0\n",
        "\n",
        "while contagem < 3:\n",
        "  coisa = input('Qual item você deseja retirar da lista? ')\n",
        "  if coisa in lista:\n",
        "    if coisa == 'qualquer':\n",
        "      lista.pop(-1)\n",
        "      print(lista)\n",
        "      contagem +=1\n",
        "    else:\n",
        "      tirar(coisa)\n",
        "      print(lista)\n",
        "      contagem +=1\n",
        "  else:\n",
        "    print(coisa, 'não está na lista')\n",
        "    contagem +=1\n"
      ],
      "metadata": {
        "colab": {
          "base_uri": "https://localhost:8080/"
        },
        "id": "NWcaG4u9U4zd",
        "outputId": "fa0192b1-929f-42e9-dcd6-31ae7aa4c1a3"
      },
      "execution_count": null,
      "outputs": [
        {
          "output_type": "stream",
          "name": "stdout",
          "text": [
            "Qual item você deseja retirar? varinha\n",
            "varinha não está na lista\n",
            "Qual item você deseja retirar? camisinha\n",
            "camisinha não está na lista\n",
            "Qual item você deseja retirar? bora\n",
            "bora não está na lista\n"
          ]
        }
      ]
    },
    {
      "cell_type": "markdown",
      "source": [
        "## Resolução do professor"
      ],
      "metadata": {
        "id": "SlK43oZPcHKI"
      }
    },
    {
      "cell_type": "code",
      "source": [
        "sacola = ['leite', 'arroz', 'maça', 'detergente']\n",
        "\n",
        "def function(sacola, item):\n",
        "  if item in sacola:\n",
        "    sacola.remove(item)\n",
        "  else:\n",
        "    print('O item', item, 'não está na sacola')\n",
        "\n",
        "count = 3\n",
        "\n",
        "while count > 0:\n",
        "  print('Os itens da sacola são: ', sacola)\n",
        "  item = input('\\n Digite o item a ser retirado\\n')\n",
        "  if item == 'qualquer':\n",
        "    sacola.pop()\n",
        "  else:\n",
        "    function(sacola, item)\n",
        "  count -= 1\n"
      ],
      "metadata": {
        "colab": {
          "base_uri": "https://localhost:8080/"
        },
        "id": "DNOwyokyWoNA",
        "outputId": "c902c0a3-8e19-46bd-e0e5-8b1abecaecc9"
      },
      "execution_count": null,
      "outputs": [
        {
          "name": "stdout",
          "output_type": "stream",
          "text": [
            "Os itens da sacola são:  ['leite', 'arroz', 'maça', 'detergente']\n",
            "\n",
            " Digite o item a ser retirado\n",
            "leite\n",
            "Os itens da sacola são:  ['arroz', 'maça', 'detergente']\n",
            "\n",
            " Digite o item a ser retirado\n",
            "maça\n",
            "Os itens da sacola são:  ['arroz', 'detergente']\n",
            "\n",
            " Digite o item a ser retirado\n",
            "detergente\n"
          ]
        }
      ]
    },
    {
      "cell_type": "code",
      "source": [],
      "metadata": {
        "id": "tB0gktN0diHz"
      },
      "execution_count": null,
      "outputs": []
    }
  ]
}