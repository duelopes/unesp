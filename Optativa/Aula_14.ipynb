{
  "nbformat": 4,
  "nbformat_minor": 0,
  "metadata": {
    "colab": {
      "provenance": []
    },
    "kernelspec": {
      "name": "python3",
      "display_name": "Python 3"
    },
    "language_info": {
      "name": "python"
    }
  },
  "cells": [
    {
      "cell_type": "markdown",
      "source": [
        "\n",
        "\n",
        "*   **Nome:** Eduardo Lopes de Oliveira\n",
        "*   **RA:** 161490336\n"
      ],
      "metadata": {
        "id": "0UjFIw8fDnek"
      }
    },
    {
      "cell_type": "markdown",
      "source": [
        "# Exercício - Exercício sem usar o laço \"For\", usando \"While\""
      ],
      "metadata": {
        "id": "eWH5pI_WD7pq"
      }
    },
    {
      "cell_type": "markdown",
      "source": [
        "Desenvolva um algoritmo que imprima uma matriz com o número de linhas e de colunas variável (posso mudar o número de linhas ou colunas mudando-se variáveis numéricos). Adicione elementos à essa matriz, elemento a elemento, sendo que os elementos a serem adicionados sigam um função quadrática \"f(x) = x**2\", com argumento \"x\" indo de 0 à 10. Por exemplo, uma matriz 2x2 ficará como segue [[0 11.1][44.4 100]]\n",
        "\n",
        "Dica: Utilize um contador, por exemplo \"count\", que iniciará em zero e sera acrescido de 1 em 1, para contar quantos itens já foram adicionados à matriz, e servir de argumentos para a função 'f[n]'."
      ],
      "metadata": {
        "id": "K_G8MLGnECPB"
      }
    },
    {
      "cell_type": "code",
      "execution_count": null,
      "metadata": {
        "colab": {
          "base_uri": "https://localhost:8080/"
        },
        "id": "DUZcoGlwBjdp",
        "outputId": "ec0471f9-5385-4e38-9339-5d63377782ee"
      },
      "outputs": [
        {
          "output_type": "stream",
          "name": "stdout",
          "text": [
            "Qual o número de linhas e colunas? 5\n",
            "[[  0.     0.17   0.69   1.56   2.78]\n",
            " [  4.34   6.25   8.51  11.11  14.06]\n",
            " [ 17.36  21.01  25.    29.34  34.03]\n",
            " [ 39.06  44.44  50.17  56.25  62.67]\n",
            " [ 69.44  76.56  84.03  91.84 100.  ]]\n"
          ]
        }
      ],
      "source": [
        "import matplotlib.pyplot as plt\n",
        "import numpy as np\n",
        "\n",
        "linhas = int(input('Qual o número de linhas e colunas? '))\n",
        "colunas = linhas\n",
        "matriz = np.zeros((linhas, colunas))\n",
        "x = np.linspace(0, 10, colunas**2)\n",
        "count = 0\n",
        "\n",
        "linha = 0\n",
        "coluna = 0\n",
        "\n",
        "while linha < linhas:\n",
        "    while coluna < colunas:\n",
        "        matriz[linha, coluna] = round(x[count]**2, 2)\n",
        "        count += 1\n",
        "        coluna += 1\n",
        "    linha += 1\n",
        "    coluna = 0\n",
        "\n",
        "print(matriz)"
      ]
    },
    {
      "cell_type": "markdown",
      "source": [
        "# Exercício Avançado de \"For\""
      ],
      "metadata": {
        "id": "jrttDwkVE2an"
      }
    },
    {
      "cell_type": "markdown",
      "source": [
        "Insira elementos em uma matriz 3x3, item a item, aleatoriamente (com valores de 1 a 10), até que a média dos valores de matriz ultrapasse 4. Se isso acontecer, pare de inserir os elementos, e imprima a matriz ao final do programa. Para cada linha ou coluna completa, caso a condição \"média da matriz > 4\" não tenha sido satisfeita, imprima qual a linha (ou coluna) que foi completada. Caso toda a matriz tenha sido completada, imprima \"Matriz concluída!\".\n",
        "\n",
        "OBS: Não utilize novos \"if\" para imprimir se a coluna, linha ou matriz coluna utilize os \"else\" das condicionais já definidas, ou utilize \"elif\"."
      ],
      "metadata": {
        "id": "F5J5GEepE7i_"
      }
    },
    {
      "cell_type": "markdown",
      "source": [
        "## Exercício base da Aula 8:"
      ],
      "metadata": {
        "id": "mt8vZ-0AGwu4"
      }
    },
    {
      "cell_type": "code",
      "source": [
        "import random\n",
        "import numpy as np\n",
        "\n",
        "# Cria uma matriz 3x3 de zeros\n",
        "matriz = np.zeros((3, 3))\n",
        "\n",
        "# Preenche a matriz com números aleatórios de 0 a 10\n",
        "for linha in range(3):\n",
        "    for coluna in range(3):\n",
        "        novo_valor = random.randint(1, 10)\n",
        "        matriz[linha, coluna] = novo_valor\n",
        "        media_atual = np.mean(matriz)\n",
        "        print(f\"Novo valor: {novo_valor}, Média: {media_atual}\")\n",
        "\n",
        "        if media_atual > 3:\n",
        "            print(\"\\nMédia atual \", media_atual, \" é maior que 3. Parando.\")\n",
        "            print(\"Valor Mínimo: \", np.min(matriz))\n",
        "            print(\"Valor Máximo: \", np.max(matriz))\n",
        "            print(\"Média: \", np.mean(matriz))\n",
        "            print(\"Desvio Padrão: \", np.std(matriz))\n",
        "            break\n",
        "    else:\n",
        "        continue  # Executa se o loop interno não for interrompido\n",
        "    break  # Executa se o loop interno for interrompido\n",
        "\n",
        "print(\"\\nMatriz Final:\")\n",
        "print(matriz)"
      ],
      "metadata": {
        "colab": {
          "base_uri": "https://localhost:8080/"
        },
        "id": "BP_d5jDFDr9q",
        "outputId": "a55a3cba-c1a0-401a-f7eb-3b743f43f966"
      },
      "execution_count": null,
      "outputs": [
        {
          "output_type": "stream",
          "name": "stdout",
          "text": [
            "Novo valor: 1, Média: 0.1111111111111111\n",
            "Novo valor: 4, Média: 0.5555555555555556\n",
            "Novo valor: 6, Média: 1.2222222222222223\n",
            "Novo valor: 3, Média: 1.5555555555555556\n",
            "Novo valor: 10, Média: 2.6666666666666665\n",
            "Novo valor: 5, Média: 3.2222222222222223\n",
            "\n",
            "Média atual  3.2222222222222223  é maior que 3. Parando.\n",
            "Valor Mínimo:  0.0\n",
            "Valor Máximo:  10.0\n",
            "Média:  3.2222222222222223\n",
            "Desvio Padrão:  3.2241373618993134\n",
            "\n",
            "Matriz Final:\n",
            "[[ 1.  4.  6.]\n",
            " [ 3. 10.  5.]\n",
            " [ 0.  0.  0.]]\n"
          ]
        }
      ]
    },
    {
      "cell_type": "markdown",
      "source": [
        "## Tentativa"
      ],
      "metadata": {
        "id": "9JxUYOXnHRB4"
      }
    },
    {
      "cell_type": "code",
      "source": [
        "import random\n",
        "import numpy as np\n",
        "\n",
        "# Cria uma matriz 3x3 de zeros\n",
        "matriz = np.zeros((3, 3))\n",
        "count = 1\n",
        "\n",
        "# Preenche a matriz com números aleatórios de 0 a 10\n",
        "for linha in range(3):\n",
        "    for coluna in range(3):\n",
        "        novo_valor = random.randint(1, 10)\n",
        "        matriz[linha, coluna] = novo_valor\n",
        "        media_atual = np.mean(matriz)\n",
        "        print(f\"Novo valor: {novo_valor}, Média: {media_atual}\")\n",
        "\n",
        "        if media_atual > 4:\n",
        "            print(\"\\nMatriz concluída! A média é\", media_atual)\n",
        "            break\n",
        "\n",
        "    else:\n",
        "      print(\"Linha \", count, \"completa\")\n",
        "      count += 1\n",
        "      continue\n",
        "    break\n",
        "\n",
        "print(\"\\nMatriz Final\")\n",
        "print(matriz)\n"
      ],
      "metadata": {
        "colab": {
          "base_uri": "https://localhost:8080/"
        },
        "id": "SYLTmOmmG2gv",
        "outputId": "cae6c9ff-5d9b-4dfc-8b84-55a5cda90dc1"
      },
      "execution_count": null,
      "outputs": [
        {
          "output_type": "stream",
          "name": "stdout",
          "text": [
            "Novo valor: 8, Média: 0.8888888888888888\n",
            "Novo valor: 4, Média: 1.3333333333333333\n",
            "Novo valor: 8, Média: 2.2222222222222223\n",
            "Linha  1 completa\n",
            "Novo valor: 7, Média: 3.0\n",
            "Novo valor: 8, Média: 3.888888888888889\n",
            "Novo valor: 3, Média: 4.222222222222222\n",
            "\n",
            "Matriz concluída! A média é 4.222222222222222\n",
            "\n",
            "Matriz Final\n",
            "[[8. 4. 8.]\n",
            " [7. 8. 3.]\n",
            " [0. 0. 0.]]\n"
          ]
        }
      ]
    },
    {
      "cell_type": "code",
      "source": [
        "import random\n",
        "import numpy as np\n",
        "\n",
        "# Cria uma matriz 3x3 de zeros\n",
        "matriz = np.zeros((3, 3))\n",
        "count = 1\n",
        "\n",
        "# Preenche a matriz com números aleatórios de 0 a 10\n",
        "for linha in range(3):\n",
        "    for coluna in range(3):\n",
        "        novo_valor = random.randint(1, 10)\n",
        "        matriz[linha, coluna] = novo_valor\n",
        "        media_atual = np.mean(matriz)\n",
        "        print(f\"Novo valor: {novo_valor}, Média: {media_atual}\")\n",
        "\n",
        "        if media_atual > 4:\n",
        "            print(\"\\nMatriz concluída! A média é\", media_atual)\n",
        "            break\n",
        "\n",
        "        elif matriz[0][2]>0:\n",
        "            print(\"Linha 1 completa\")\n",
        "            continue\n",
        "\n",
        "        elif matriz[2][0]>0:\n",
        "            print(\"Coluna 1 completa\")\n",
        "            continue\n",
        "\n",
        "        elif matriz[1][2]>0:\n",
        "            print(\"Linha 2 completa\")\n",
        "            continue\n",
        "\n",
        "        elif matriz[2][1]>0:\n",
        "            print(\"Coluna 2 completa\")\n",
        "            continue\n",
        "\n",
        "        elif matriz[2][2]>0:\n",
        "            print(\"Linha 3 completa\")\n",
        "            print(\"Coluna 3 completa\")\n",
        "            continue\n",
        "\n",
        "    else:\n",
        "        continue\n",
        "    break\n",
        "\n",
        "print(\"\\nMatriz Final\")\n",
        "print(matriz)\n"
      ],
      "metadata": {
        "colab": {
          "base_uri": "https://localhost:8080/"
        },
        "id": "8gXIP5caQWHe",
        "outputId": "e2dba543-3c0a-41cb-b318-f077305a68fd"
      },
      "execution_count": null,
      "outputs": [
        {
          "output_type": "stream",
          "name": "stdout",
          "text": [
            "Novo valor: 6, Média: 0.6666666666666666\n",
            "Novo valor: 3, Média: 1.0\n",
            "Novo valor: 4, Média: 1.4444444444444444\n",
            "Linha 1 completa\n",
            "Novo valor: 9, Média: 2.4444444444444446\n",
            "Linha 1 completa\n",
            "Novo valor: 5, Média: 3.0\n",
            "Linha 1 completa\n",
            "Novo valor: 7, Média: 3.7777777777777777\n",
            "Linha 1 completa\n",
            "Novo valor: 4, Média: 4.222222222222222\n",
            "\n",
            "Matriz concluída! A média é 4.222222222222222\n",
            "\n",
            "Matriz Final\n",
            "[[6. 3. 4.]\n",
            " [9. 5. 7.]\n",
            " [4. 0. 0.]]\n"
          ]
        }
      ]
    },
    {
      "cell_type": "code",
      "source": [
        "import random\n",
        "import numpy as np\n",
        "\n",
        "# Cria uma matriz 3x3 de zeros\n",
        "matriz = np.zeros((3, 3))\n",
        "\n",
        "# Preenche a matriz com números aleatórios de 0 a 10\n",
        "for linha in range(3):\n",
        "    for coluna in range(3):\n",
        "        novo_valor = random.randint(1, 10)\n",
        "        matriz[linha, coluna] = novo_valor\n",
        "        media_atual = np.mean(matriz)\n",
        "        print(f\"Novo valor: {novo_valor}, Média: {media_atual}\")\n",
        "\n",
        "        if media_atual > 4:\n",
        "            print(\"\\nMatriz concluída! A média é\", media_atual)\n",
        "            break\n",
        "\n",
        "        if linha == 2 and coluna == 2:\n",
        "            print(\"Linha 3 completa\")\n",
        "            print(\"Coluna 3 completa\")\n",
        "\n",
        "        elif linha == 0 and coluna == 2:\n",
        "            print(\"Linha 1 completa\")\n",
        "\n",
        "        elif linha == 1 and coluna == 2:\n",
        "            print(\"Linha 2 completa\")\n",
        "\n",
        "        elif linha == 2 and coluna == 0:\n",
        "            print(\"Coluna 1 completa\")\n",
        "\n",
        "        elif linha == 2 and coluna == 1:\n",
        "            print(\"Coluna 2 completa\")\n",
        "\n",
        "print(\"\\nMatriz Final\")\n",
        "print(matriz)"
      ],
      "metadata": {
        "colab": {
          "base_uri": "https://localhost:8080/"
        },
        "id": "1fMoFHkORw1Z",
        "outputId": "524bf31f-a8a8-40ec-e434-a15a759a0a32"
      },
      "execution_count": null,
      "outputs": [
        {
          "output_type": "stream",
          "name": "stdout",
          "text": [
            "Novo valor: 2, Média: 0.2222222222222222\n",
            "Novo valor: 5, Média: 0.7777777777777778\n",
            "Novo valor: 3, Média: 1.1111111111111112\n",
            "Linha 1 completa\n",
            "Novo valor: 3, Média: 1.4444444444444444\n",
            "Novo valor: 9, Média: 2.4444444444444446\n",
            "Novo valor: 9, Média: 3.4444444444444446\n",
            "Linha 2 completa\n",
            "Novo valor: 1, Média: 3.5555555555555554\n",
            "Coluna 1 completa\n",
            "Novo valor: 3, Média: 3.888888888888889\n",
            "Coluna 2 completa\n",
            "Novo valor: 2, Média: 4.111111111111111\n",
            "\n",
            "Matriz concluída! A média é 4.111111111111111\n",
            "\n",
            "Matriz Final\n",
            "[[2. 5. 3.]\n",
            " [3. 9. 9.]\n",
            " [1. 3. 2.]]\n"
          ]
        }
      ]
    },
    {
      "cell_type": "code",
      "source": [
        "import random\n",
        "import numpy as np\n",
        "\n",
        "# Cria uma matriz 3x3 de zeros\n",
        "matriz = np.zeros((3, 3))\n",
        "flag = False\n",
        "\n",
        "# Preenche a matriz com números aleatórios de 0 a 10\n",
        "for linha in range(3):\n",
        "    for coluna in range(3):\n",
        "        novo_valor = random.randint(1, 10)\n",
        "        matriz[linha, coluna] = novo_valor\n",
        "        media_atual = np.mean(matriz)\n",
        "        print(f\"Novo valor: {novo_valor}, Média: {media_atual}\")\n",
        "\n",
        "        if media_atual > 4:\n",
        "            print(\"\\nMatriz concluída! A média é\", media_atual)\n",
        "            flag = True\n",
        "            break\n",
        "    else:\n",
        "        print(\"Linha\", linha+1, \"completa!\")\n",
        "\n",
        "    if flag == True:\n",
        "      break\n",
        "\n",
        "if linha == 2:\n",
        "    print(\"Coluna\", coluna+1, \"completa!\")\n",
        "\n",
        "print(\"\\nMatriz Final\")\n",
        "print(matriz)"
      ],
      "metadata": {
        "colab": {
          "base_uri": "https://localhost:8080/"
        },
        "id": "rltQiIALTS1I",
        "outputId": "9f13f841-9e71-419e-a17f-00b6e12e0311"
      },
      "execution_count": null,
      "outputs": [
        {
          "output_type": "stream",
          "name": "stdout",
          "text": [
            "Novo valor: 5, Média: 0.5555555555555556\n",
            "Novo valor: 1, Média: 0.6666666666666666\n",
            "Novo valor: 1, Média: 0.7777777777777778\n",
            "Linha 1 completa!\n",
            "Novo valor: 5, Média: 1.3333333333333333\n",
            "Novo valor: 9, Média: 2.3333333333333335\n",
            "Novo valor: 8, Média: 3.2222222222222223\n",
            "Linha 2 completa!\n",
            "Novo valor: 1, Média: 3.3333333333333335\n",
            "Novo valor: 10, Média: 4.444444444444445\n",
            "\n",
            "Matriz concluída! A média é 4.444444444444445\n",
            "Coluna 2 completa!\n",
            "\n",
            "Matriz Final\n",
            "[[ 5.  1.  1.]\n",
            " [ 5.  9.  8.]\n",
            " [ 1. 10.  0.]]\n"
          ]
        }
      ]
    },
    {
      "cell_type": "code",
      "source": [],
      "metadata": {
        "id": "_Q-8Ux7UVEiT"
      },
      "execution_count": null,
      "outputs": []
    }
  ]
}