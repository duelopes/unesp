{
  "nbformat": 4,
  "nbformat_minor": 0,
  "metadata": {
    "colab": {
      "provenance": []
    },
    "kernelspec": {
      "name": "python3",
      "display_name": "Python 3"
    },
    "language_info": {
      "name": "python"
    }
  },
  "cells": [
    {
      "cell_type": "markdown",
      "source": [
        "*   Nome: Eduardo Lopes de Oliveira\n",
        "*   RA: 161490336\n",
        "\n"
      ],
      "metadata": {
        "id": "iK4G3UZlN7-f"
      }
    },
    {
      "cell_type": "markdown",
      "source": [
        "# Operadores Binário"
      ],
      "metadata": {
        "id": "eqhV2I9gONgV"
      }
    },
    {
      "cell_type": "code",
      "execution_count": null,
      "metadata": {
        "colab": {
          "base_uri": "https://localhost:8080/"
        },
        "id": "mJZYzMExN2JJ",
        "outputId": "51816638-d687-4347-b70b-939837f74b6c"
      },
      "outputs": [
        {
          "output_type": "stream",
          "name": "stdout",
          "text": [
            "0b11\n"
          ]
        }
      ],
      "source": [
        "a = 0b0011 # 3 na base 10\n",
        "b = 0b0101 # 5 na base 10\n",
        "\n",
        "# Operador AND\n",
        "result = a & b\n",
        "\n",
        "# Operador OR\n",
        "result = a | b\n",
        "\n",
        "# Operador NOT\n",
        "result = -a\n",
        "\n",
        "# Operador XOR\n",
        "result = a ^ b\n",
        "\n",
        "# Operador 'desloque 2 dígitos para a esquerda'\n",
        "result = a << 2\n",
        "\n",
        "# Operador 'desloque 2 dígitos para a direita'\n",
        "result = 0b1100 >> 2\n",
        "\n",
        "print(bin(result))"
      ]
    },
    {
      "cell_type": "markdown",
      "source": [
        "## Exercício - Operadores Binários\n",
        "\n",
        "\n",
        "*   Transforme o número binário '0b0100' em '0b0010' com uma operação\n",
        "*   Transforme o número binário '0b0001' em '0b1011' com duas operações\n",
        "\n",
        "OBS: Somente as variáveis '0b0000' e '0b1111' podem ser usadas para realizar as operações.\n",
        "\n"
      ],
      "metadata": {
        "id": "1JNZWz2HQIzg"
      }
    },
    {
      "cell_type": "code",
      "source": [
        "a = 0b0100\n",
        "b = 0b0001\n",
        "\n",
        "# Primeiro item\n",
        "op1 = a >> 1\n",
        "print('O resultado do primeiro item: ', bin(op1))\n",
        "\n",
        "# Segundo item\n",
        "op2 = b << 2\n",
        "op3 = op2 ^ 0b1111\n",
        "print('O resultado do segundo item: ', bin(op3))"
      ],
      "metadata": {
        "colab": {
          "base_uri": "https://localhost:8080/"
        },
        "id": "uS-ybW3CQuSc",
        "outputId": "e4dc8e88-cbb9-41a8-ce08-f5297b8221fa"
      },
      "execution_count": null,
      "outputs": [
        {
          "output_type": "stream",
          "name": "stdout",
          "text": [
            "O resultado do primeiro item:  0b10\n",
            "O resultado do segundo item:  0b1011\n"
          ]
        }
      ]
    },
    {
      "cell_type": "markdown",
      "source": [
        "## Operadores Binários nas Declarações Condicionais?"
      ],
      "metadata": {
        "id": "JyheWkIeUmjm"
      }
    },
    {
      "cell_type": "code",
      "source": [
        "if (5 < 3) | (1 > 0.5):\n",
        "  print('yes!')"
      ],
      "metadata": {
        "colab": {
          "base_uri": "https://localhost:8080/"
        },
        "id": "ENa6vCRtRneT",
        "outputId": "7f8467a9-1b20-4310-952d-7af0497dbf67"
      },
      "execution_count": null,
      "outputs": [
        {
          "output_type": "stream",
          "name": "stdout",
          "text": [
            "yes!\n"
          ]
        }
      ]
    },
    {
      "cell_type": "markdown",
      "source": [
        "# Biblioteca NumPy"
      ],
      "metadata": {
        "id": "3vH8n9rhWuaw"
      }
    },
    {
      "cell_type": "code",
      "source": [
        "import numpy as np\n",
        "print(np.pi)"
      ],
      "metadata": {
        "colab": {
          "base_uri": "https://localhost:8080/"
        },
        "id": "H8Xk7CNDWQU7",
        "outputId": "b78e5841-f91d-415f-df2e-a035aa6432fa"
      },
      "execution_count": null,
      "outputs": [
        {
          "output_type": "stream",
          "name": "stdout",
          "text": [
            "3.141592653589793\n"
          ]
        }
      ]
    },
    {
      "cell_type": "code",
      "source": [
        "# Definindo-se um array com NumPy\n",
        "a = np.array([1, 2, 3, 4, 5])\n",
        "\n",
        "# Definindo-se uma matriz em NumPy\n",
        "b = np.array([[1, 2, 3],\n",
        "              [4, 5, 6],\n",
        "              [7, 8, 9]])\n",
        "\n",
        "print(b)\n",
        "print(b.shape)"
      ],
      "metadata": {
        "colab": {
          "base_uri": "https://localhost:8080/"
        },
        "id": "nxKutacIYATX",
        "outputId": "8a0406ba-f4a9-47a2-e1df-c53ed5e9bcbf"
      },
      "execution_count": null,
      "outputs": [
        {
          "output_type": "stream",
          "name": "stdout",
          "text": [
            "[[1 2 3]\n",
            " [4 5 6]\n",
            " [7 8 9]]\n",
            "(3, 3)\n"
          ]
        }
      ]
    },
    {
      "cell_type": "code",
      "source": [
        "lista = [[1, 2, 3], [4, 5, 6], [7, 8, 9]]\n",
        "\n",
        "a = np.asarray(lista)\n",
        "\n",
        "print(a[1,1])\n",
        "print(a[0][0])\n",
        "print(a[0:2, 0:2])"
      ],
      "metadata": {
        "colab": {
          "base_uri": "https://localhost:8080/"
        },
        "id": "52cY_ceAYzjL",
        "outputId": "2ed7769d-45cf-4899-b6ff-f4db9983772d"
      },
      "execution_count": null,
      "outputs": [
        {
          "output_type": "stream",
          "name": "stdout",
          "text": [
            "5\n",
            "1\n",
            "[[1 2]\n",
            " [4 5]]\n"
          ]
        }
      ]
    },
    {
      "cell_type": "code",
      "source": [],
      "metadata": {
        "id": "cqcOOXLpd7LU"
      },
      "execution_count": null,
      "outputs": []
    },
    {
      "cell_type": "markdown",
      "source": [
        "## Exercício - NumPy e Laço For\n",
        "\n",
        "Desenvolva um algoritmo que adiciona valores aletórios aos elementos de um array de 10 posições. A cada iteração, verifique se a média ou o desvio padrão de todos os elementos do array é maior do que 3. Em caso positivo, imprima os valores máximo, mínimo, a média e o desvio padrão, e quebre o laço com break"
      ],
      "metadata": {
        "id": "Mp64IhuEevL9"
      }
    },
    {
      "cell_type": "code",
      "source": [
        "import random\n",
        "\n",
        "lista = np.array([random.randint(0, 10), random.randint(0, 10), random.randint(0, 10), random.randint(0, 10), random.randint(0, 10),\n",
        "                 random.randint(0, 10), random.randint(0, 10), random.randint(0, 10), random.randint(0, 10), random.randint(0, 10)])\n",
        "\n",
        "media = np.mean(lista)\n",
        "desvio = np.std(lista)\n",
        "print('A lista ficou: ', lista)\n",
        "\n",
        "if (media > 3) | (desvio > 3):\n",
        "  print('O valor máximo da lista: ', np.max(lista))\n",
        "  print('O valor mínimo da lista: ', np.min(lista))\n",
        "  print('A média da lista: ', media)\n",
        "  print('O desvio padrão da lista: ', desvio)\n",
        "\n",
        "else:\n",
        "  print('Não atendeu os requisitos, a média deu ', media, ' e o desvio deu ', desvio)"
      ],
      "metadata": {
        "id": "2CeU2s-AfOyC"
      },
      "execution_count": null,
      "outputs": []
    },
    {
      "cell_type": "code",
      "source": [],
      "metadata": {
        "id": "Z9xnCrvAgIiZ"
      },
      "execution_count": null,
      "outputs": []
    }
  ]
}