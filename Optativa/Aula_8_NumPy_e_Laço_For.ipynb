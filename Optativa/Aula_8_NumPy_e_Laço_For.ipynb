{
  "nbformat": 4,
  "nbformat_minor": 0,
  "metadata": {
    "colab": {
      "provenance": [],
      "toc_visible": true
    },
    "kernelspec": {
      "name": "python3",
      "display_name": "Python 3"
    },
    "language_info": {
      "name": "python"
    }
  },
  "cells": [
    {
      "cell_type": "markdown",
      "source": [
        "# Cabeçalho\n",
        "\n",
        "*   **Nome:** Eduardo Lopes de Oliveira\n",
        "*   **RA:** 161490336\n",
        "\n"
      ],
      "metadata": {
        "id": "4raG8YsBIyPI"
      }
    },
    {
      "cell_type": "markdown",
      "source": [
        "#Exercício - NumPy e Laço For\n"
      ],
      "metadata": {
        "id": "rnZ-O6ca0YJz"
      }
    },
    {
      "cell_type": "markdown",
      "source": [
        "Desenvolva um programa que crie uma matriz 3x3, elemento a elemento, com valores aletórios de 1 a 10. A cada uma das 9 iterações, verifique se a média dos elementos da matriz é maior do que três. Se isso acontecer, imprima na tela o valor mínimo, máximo, a média e o desvio padrão dos elementos da matriz, imprima a matriz inteira e pare a execução do programa"
      ],
      "metadata": {
        "id": "cYUhohwW0fUV"
      }
    },
    {
      "cell_type": "markdown",
      "source": [
        "## Primeira tentativa"
      ],
      "metadata": {
        "id": "MvRJTn-qD8cT"
      }
    },
    {
      "cell_type": "code",
      "source": [
        "import random\n",
        "import numpy as np\n",
        "\n",
        "matriz = []\n",
        "\n",
        "for i in range(0, 3):\n",
        "    linha = []\n",
        "    for j in range(0, 3):\n",
        "        linha.append(random.randint(1, 10))\n",
        "    matriz.append(linha)\n",
        "\n",
        "    if np.mean(matriz) > 3:\n",
        "        saio_do_programa = True;\n",
        "        print(\"Média dos elementos é maior que três.\")\n",
        "        print(\"Valor Mínimo:\", np.min(matriz))\n",
        "        print(\"Valor Máximo:\", np.max(matriz))\n",
        "        print(\"Média:\", np.mean(matriz))\n",
        "        print(\"Desvio Padrão:\", np.std(matriz))\n",
        "        print(\"Matriz:\")\n",
        "        for linha in matriz:\n",
        "            print(linha)\n",
        "        #break\n",
        "\n",
        "\n",
        "print(\"Matriz final:\")\n",
        "for linha in matriz:\n",
        "    print(linha)"
      ],
      "metadata": {
        "colab": {
          "base_uri": "https://localhost:8080/"
        },
        "id": "u6miTVeo13iR",
        "outputId": "eb101166-c95a-42e1-8300-a4c6c2e9b52a"
      },
      "execution_count": null,
      "outputs": [
        {
          "output_type": "stream",
          "name": "stdout",
          "text": [
            "Média dos elementos é maior que três.\n",
            "Valor Mínimo: 3\n",
            "Valor Máximo: 8\n",
            "Média: 5.333333333333333\n",
            "Desvio Padrão: 2.0548046676563256\n",
            "Matriz:\n",
            "[3, 5, 8]\n",
            "Média dos elementos é maior que três.\n",
            "Valor Mínimo: 3\n",
            "Valor Máximo: 10\n",
            "Média: 5.666666666666667\n",
            "Desvio Padrão: 2.494438257849294\n",
            "Matriz:\n",
            "[3, 5, 8]\n",
            "[4, 4, 10]\n",
            "Média dos elementos é maior que três.\n",
            "Valor Mínimo: 3\n",
            "Valor Máximo: 10\n",
            "Média: 6.666666666666667\n",
            "Desvio Padrão: 2.5385910352879693\n",
            "Matriz:\n",
            "[3, 5, 8]\n",
            "[4, 4, 10]\n",
            "[8, 10, 8]\n",
            "Matriz final:\n",
            "[3, 5, 8]\n",
            "[4, 4, 10]\n",
            "[8, 10, 8]\n"
          ]
        }
      ]
    },
    {
      "cell_type": "markdown",
      "source": [
        "## Dica do professor"
      ],
      "metadata": {
        "id": "T0CXEnSLD2KA"
      }
    },
    {
      "cell_type": "code",
      "source": [
        "import numpy as np\n",
        "\n",
        "matriz = np.zeros([3, 3])\n",
        "\n",
        "linha = 2\n",
        "coluna = 1\n",
        "\n",
        "matriz[linha, coluna] = 1\n",
        "print(matriz)"
      ],
      "metadata": {
        "colab": {
          "base_uri": "https://localhost:8080/"
        },
        "id": "JvvAI56D24tC",
        "outputId": "647dc49f-8122-42ab-b9a7-1966678083a2"
      },
      "execution_count": null,
      "outputs": [
        {
          "output_type": "stream",
          "name": "stdout",
          "text": [
            "[[0. 0. 0.]\n",
            " [0. 0. 0.]\n",
            " [0. 1. 0.]]\n"
          ]
        }
      ]
    },
    {
      "cell_type": "markdown",
      "source": [
        "## Segunda tentativa"
      ],
      "metadata": {
        "id": "9aIQB3_cEFq4"
      }
    },
    {
      "cell_type": "markdown",
      "source": [
        "A cada mudança do número da matriz, tirar a média da matriz e verificar se é maior que 3, caso positivo parar e mostrar o valor máximo, mínimo, média e desvio padrão."
      ],
      "metadata": {
        "id": "wH3tmfTnELmk"
      }
    },
    {
      "cell_type": "code",
      "source": [
        "import random\n",
        "import numpy as np\n",
        "\n",
        "# Cria uma matriz 3x3 de zeros\n",
        "matriz = np.zeros((3, 3))\n",
        "\n",
        "# Preenche a matriz com números aleatórios de 0 a 10\n",
        "for linha in range(3):\n",
        "    for coluna in range(3):\n",
        "        novo_valor = random.randint(1, 10)\n",
        "        matriz[linha, coluna] = novo_valor\n",
        "        media_atual = np.mean(matriz)\n",
        "        print(f\"Novo valor: {novo_valor}, Média: {media_atual}\")\n",
        "\n",
        "        if media_atual > 3:\n",
        "            print(\"\\nMédia atual \", media_atual, \" é maior que 3. Parando.\")\n",
        "            print(\"Valor Mínimo: \", np.min(matriz))\n",
        "            print(\"Valor Máximo: \", np.max(matriz))\n",
        "            print(\"Média: \", np.mean(matriz))\n",
        "            print(\"Desvio Padrão: \", np.std(matriz))\n",
        "            break\n",
        "    else:\n",
        "        continue  # Executa se o loop interno não for interrompido\n",
        "    break  # Executa se o loop interno for interrompido\n",
        "\n",
        "print(\"\\nMatriz Final:\")\n",
        "print(matriz)"
      ],
      "metadata": {
        "colab": {
          "base_uri": "https://localhost:8080/"
        },
        "id": "rc6gMvkwCSLV",
        "outputId": "d8473d6b-fbb9-46af-b33c-625b67a01277"
      },
      "execution_count": null,
      "outputs": [
        {
          "output_type": "stream",
          "name": "stdout",
          "text": [
            "Novo valor: 4, Média: 0.4444444444444444\n",
            "Novo valor: 7, Média: 1.2222222222222223\n",
            "Novo valor: 3, Média: 1.5555555555555556\n",
            "Novo valor: 2, Média: 1.7777777777777777\n",
            "Novo valor: 5, Média: 2.3333333333333335\n",
            "Novo valor: 3, Média: 2.6666666666666665\n",
            "Novo valor: 3, Média: 3.0\n",
            "Novo valor: 10, Média: 4.111111111111111\n",
            "\n",
            "Média atual  4.111111111111111  é maior que 3. Parando.\n",
            "Valor Mínimo:  0.0\n",
            "Valor Máximo:  10.0\n",
            "Média:  4.111111111111111\n",
            "Desvio Padrão:  2.7666443551086073\n",
            "\n",
            "Matriz Final:\n",
            "[[ 4.  7.  3.]\n",
            " [ 2.  5.  3.]\n",
            " [ 3. 10.  0.]]\n"
          ]
        }
      ]
    },
    {
      "cell_type": "markdown",
      "source": [
        "# Outras matrizes NumPy"
      ],
      "metadata": {
        "id": "STVWNA4xHh2-"
      }
    },
    {
      "cell_type": "code",
      "source": [
        "import numpy as np\n",
        "\n",
        "#Definindo-se uma matriz de zeros\n",
        "matriz = np.zeros([3, 3], dtype = int)\n",
        "#Definindo-se uma matriz de unidades\n",
        "matriz = np.ones([5, 5])\n",
        "#Definindo-se uma matriz identidade\n",
        "matriz = np.identity(7)\n",
        "matriz = np.eye(3)\n",
        "\n",
        "print(matriz)\n",
        "print(type(matriz))\n",
        "print(matriz.dtype)\n",
        "print(len(matriz))"
      ],
      "metadata": {
        "colab": {
          "base_uri": "https://localhost:8080/"
        },
        "id": "DkNqqbY5HkJg",
        "outputId": "4451c901-e7bf-4d9a-ff39-3af269298e54"
      },
      "execution_count": null,
      "outputs": [
        {
          "output_type": "stream",
          "name": "stdout",
          "text": [
            "[[1. 0. 0.]\n",
            " [0. 1. 0.]\n",
            " [0. 0. 1.]]\n",
            "<class 'numpy.ndarray'>\n",
            "float64\n",
            "3\n"
          ]
        }
      ]
    },
    {
      "cell_type": "code",
      "source": [
        "help(np.eye)"
      ],
      "metadata": {
        "colab": {
          "base_uri": "https://localhost:8080/"
        },
        "id": "jRHCjc3GHs5T",
        "outputId": "7bc85dde-2f06-446d-9f5c-6a8d61f17901"
      },
      "execution_count": null,
      "outputs": [
        {
          "output_type": "stream",
          "name": "stdout",
          "text": [
            "Help on function eye in module numpy:\n",
            "\n",
            "eye(N, M=None, k=0, dtype=<class 'float'>, order='C', *, like=None)\n",
            "    Return a 2-D array with ones on the diagonal and zeros elsewhere.\n",
            "    \n",
            "    Parameters\n",
            "    ----------\n",
            "    N : int\n",
            "      Number of rows in the output.\n",
            "    M : int, optional\n",
            "      Number of columns in the output. If None, defaults to `N`.\n",
            "    k : int, optional\n",
            "      Index of the diagonal: 0 (the default) refers to the main diagonal,\n",
            "      a positive value refers to an upper diagonal, and a negative value\n",
            "      to a lower diagonal.\n",
            "    dtype : data-type, optional\n",
            "      Data-type of the returned array.\n",
            "    order : {'C', 'F'}, optional\n",
            "        Whether the output should be stored in row-major (C-style) or\n",
            "        column-major (Fortran-style) order in memory.\n",
            "    \n",
            "        .. versionadded:: 1.14.0\n",
            "    like : array_like, optional\n",
            "        Reference object to allow the creation of arrays which are not\n",
            "        NumPy arrays. If an array-like passed in as ``like`` supports\n",
            "        the ``__array_function__`` protocol, the result will be defined\n",
            "        by it. In this case, it ensures the creation of an array object\n",
            "        compatible with that passed in via this argument.\n",
            "    \n",
            "        .. versionadded:: 1.20.0\n",
            "    \n",
            "    Returns\n",
            "    -------\n",
            "    I : ndarray of shape (N,M)\n",
            "      An array where all elements are equal to zero, except for the `k`-th\n",
            "      diagonal, whose values are equal to one.\n",
            "    \n",
            "    See Also\n",
            "    --------\n",
            "    identity : (almost) equivalent function\n",
            "    diag : diagonal 2-D array from a 1-D array specified by the user.\n",
            "    \n",
            "    Examples\n",
            "    --------\n",
            "    >>> np.eye(2, dtype=int)\n",
            "    array([[1, 0],\n",
            "           [0, 1]])\n",
            "    >>> np.eye(3, k=1)\n",
            "    array([[0.,  1.,  0.],\n",
            "           [0.,  0.,  1.],\n",
            "           [0.,  0.,  0.]])\n",
            "\n"
          ]
        }
      ]
    },
    {
      "cell_type": "code",
      "source": [],
      "metadata": {
        "id": "llfNIinUJ3SC"
      },
      "execution_count": null,
      "outputs": []
    }
  ]
}