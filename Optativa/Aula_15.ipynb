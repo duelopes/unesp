{
  "cells": [
    {
      "cell_type": "markdown",
      "id": "9ec1833b",
      "metadata": {
        "id": "9ec1833b"
      },
      "source": [
        "# Introdução ao Python\n",
        "\n",
        "## >> pip install python\n",
        "\n",
        "\n",
        "\n",
        "*   Light-way: Python + pip + Bibliotecas + Editor de Texto\n",
        "\n",
        "*   Heavy boy: Anaconda + Spyder\n",
        "\n",
        "*   Medium size: Visual Studio Code + Plug-ins\n",
        "\n",
        "*   Zero: Google Colabs, VS Code Online, Jupyter Online\n",
        "\n",
        "\n",
        "OBS: Algumas bibliotecas por si só podem pesar mais do que a instalação\n",
        "\n",
        "\n",
        "\n"
      ]
    },
    {
      "cell_type": "code",
      "execution_count": null,
      "id": "XmmAXcln_Q0a",
      "metadata": {
        "id": "XmmAXcln_Q0a"
      },
      "outputs": [],
      "source": [
        "print(\"Hello World!\")"
      ]
    },
    {
      "cell_type": "markdown",
      "id": "HQhiNTXfCdY7",
      "metadata": {
        "id": "HQhiNTXfCdY7"
      },
      "source": [
        "- Clicar na tecla 'Windows Key', escreva 'Prompt' e clique em 'Enter' (se não der certo, usar 'Anaconda Prompt')\n",
        "\n",
        ">   C:\\Users\\Your Name>python --version\n",
        "\n",
        ">   C:\\Users\\Your Name>python\n",
        "\n",
        ">   C:\\Users\\Your Name> >>> print(\"Hello World\")\n",
        "\n",
        ">   C:\\Users\\Your Name> >>> 1+1\n",
        "\n",
        ">   C:\\Users\\Your Name> >>> exit()"
      ]
    },
    {
      "cell_type": "markdown",
      "id": "7c3363ef",
      "metadata": {
        "id": "7c3363ef"
      },
      "source": [
        "## Operações Matemáticas"
      ]
    },
    {
      "cell_type": "code",
      "execution_count": null,
      "id": "29f63cd4",
      "metadata": {
        "id": "29f63cd4"
      },
      "outputs": [],
      "source": [
        "# Definindo-se as variáveis\n",
        "a = 5\n",
        "b = 2\n",
        "\n",
        "# Adição\n",
        "result = a+b\n",
        "\n",
        "# Subtração\n",
        "result = a-b\n",
        "\n",
        "# Multiplicação\n",
        "result = a*b\n",
        "\n",
        "# Divisão\n",
        "result = a/b\n",
        "\n",
        "# Potenciação\n",
        "result = a**b\n",
        "\n",
        "# Resto da divisão\n",
        "result = a%b\n",
        "result = b%a\n",
        "\n",
        "# Divisão sem resto (ou Divisão Inteira)\n",
        "result = 30//5\n",
        "result = 31//5\n",
        "\n",
        "print(-a)"
      ]
    },
    {
      "cell_type": "markdown",
      "id": "3d47b7e4",
      "metadata": {
        "id": "3d47b7e4"
      },
      "source": [
        "## Expressões mais Complexas"
      ]
    },
    {
      "cell_type": "code",
      "execution_count": null,
      "id": "8fb9ca4a",
      "metadata": {
        "id": "8fb9ca4a"
      },
      "outputs": [],
      "source": [
        "## Expressões mais Complexas\n",
        "\n",
        "x = 0.2\n",
        "\n",
        "y = 1.1 * 3/10\n",
        "\n",
        "y = 0.1 + x\n",
        "\n",
        "y = 0.1 + 3*x\n",
        "\n",
        "y = 0.1 + x**2   # não seria x^2 (latex)\n",
        "\n",
        "\n",
        "# print(type(result))\n",
        "\n",
        "print(result)"
      ]
    },
    {
      "cell_type": "markdown",
      "id": "64984fe5",
      "metadata": {
        "id": "64984fe5"
      },
      "source": [
        "## Expressões Booleanas"
      ]
    },
    {
      "cell_type": "code",
      "execution_count": null,
      "id": "upslrjAlD7Bj",
      "metadata": {
        "id": "upslrjAlD7Bj"
      },
      "outputs": [],
      "source": [
        "a = 4\n",
        "b = 2\n",
        "\n",
        "# Maior que\n",
        "result = a > b\n",
        "\n",
        "# Maior ou Igual à\n",
        "result = a >= b\n",
        "\n",
        "# Menor que\n",
        "result = a < b\n",
        "\n",
        "# Menor ou Igual à\n",
        "result = a <= b\n",
        "\n",
        "# Que outros operadores tem?\n",
        "\n",
        "# Igual à\n",
        "result = a == b\n",
        "\n",
        "# Diferente de\n",
        "result = a != b\n",
        "\n",
        "print(result)"
      ]
    },
    {
      "cell_type": "markdown",
      "id": "6cf03896",
      "metadata": {
        "id": "6cf03896"
      },
      "source": [
        "## Declarações Condicionais e Identação\n",
        "\n",
        "Todas as instruções até agora foram de execusão sequencial\n",
        "\n",
        "Para executar partes de código (ou declarações, em linguagem de programação), a depender de certas condições, ou com um fluxo de execução a depender de outras variáveis, utilizam-se estruturas de controle (ou expressões de controle de fluxo) (desenhar fluxograma não sequencial)\n",
        "\n",
        "Isso também ocorre quando queremos executar declarações recursivamente (executar repetidas vezes a mesma declaração)"
      ]
    },
    {
      "cell_type": "markdown",
      "id": "a8aa1b74",
      "metadata": {
        "id": "a8aa1b74"
      },
      "source": [
        "### Declarações Condicionais e Identação"
      ]
    },
    {
      "cell_type": "code",
      "execution_count": null,
      "id": "e17a67ea",
      "metadata": {
        "id": "e17a67ea"
      },
      "outputs": [],
      "source": [
        "if <condição>:\n",
        "    <declaração>"
      ]
    },
    {
      "cell_type": "code",
      "execution_count": null,
      "id": "1d72111e",
      "metadata": {
        "id": "1d72111e"
      },
      "outputs": [],
      "source": [
        " |\n",
        " |\n",
        " ---> Identação"
      ]
    },
    {
      "cell_type": "markdown",
      "id": "d217edaf",
      "metadata": {
        "id": "d217edaf"
      },
      "source": [
        "Identação: são espaços em branco no começo do texto. Fazem parte da sintaxe da linguagem, e que podem auxiliar as ferramentas de controle de fluxo.\n",
        "\n",
        "Mas o que é sintaxe?\n",
        "\n",
        "Sintaxe: conjunto das regras que determinam as diferentes possibilidades de associação das palavras da língua"
      ]
    },
    {
      "cell_type": "markdown",
      "id": "a80c9cfc",
      "metadata": {
        "id": "a80c9cfc"
      },
      "source": [
        "### Declarações Condicionais e Identação"
      ]
    },
    {
      "cell_type": "code",
      "execution_count": null,
      "id": "ce8b0d42",
      "metadata": {
        "id": "ce8b0d42"
      },
      "outputs": [],
      "source": [
        "a = 4\n",
        "b = 3\n",
        "\n",
        "# Se \"a\" for maior que \"b\", execute a sentença \"print('Sim')\"\n",
        "if a > b:\n",
        "    print('Sim')\n",
        "\n",
        "# Se \"a\" for igual à \"b+1\", execute a setença abaixo\n",
        "if a == b+1:\n",
        "    print('A é igual à B')\n",
        "\n",
        "# Aqui o programa só vai executar a declaração se a identação estiver correta\n",
        "if b < a:\n",
        "  print('Esta identação está correta!')\n",
        "# Aliás, em algumas IDE's (como o Spyder), você pode escolher se\n",
        "# a IDE usará 4 espaços como identação, ou se usará 2.\n",
        "\n",
        "# Descomente as linhas abaixo e veja que a identação está incorreta e causará um erro\n",
        "# if b == 3:\n",
        "# print('Identação incorreta..')\n",
        "\n",
        "# Sintaxe correta, mas não é o recomendado (foram dados 8 espaços na identação)\n",
        "if a > b:\n",
        "        print('Identação correta')\n",
        "print('Esta declaração não identada está fora do IF')\n",
        "\n",
        "if a != b:\n",
        "    print('Declaração nº1')  # Estas três declarações são\n",
        "    print('Declaração nº2')  # internas ao condicional 'if'\n",
        "    print('Declaração nº3')  # e só serão executadas se \"a != b\"\n",
        "\n",
        "print('Declaração externa')  # Já esta é externa"
      ]
    },
    {
      "cell_type": "markdown",
      "id": "6cdbcb2e",
      "metadata": {
        "id": "6cdbcb2e"
      },
      "source": [
        "### Outros Operadores Booleanos"
      ]
    },
    {
      "cell_type": "code",
      "execution_count": null,
      "id": "e9468cab",
      "metadata": {
        "id": "e9468cab"
      },
      "outputs": [],
      "source": [
        "# Operador 'end'\n",
        "print(5>4 and 3>2)\n",
        "print(3==3 and 2>-2)\n",
        "\n",
        "# Operador 'or'\n",
        "result = 2<5 or 1>3\n",
        "result = 2<1 or 1>-1\n",
        "\n",
        "# Operador 'not'\n",
        "result = not 5<2\n",
        "result = not 5>2\n",
        "result = not False\n",
        "result = not True\n",
        "\n",
        "print(result)"
      ]
    },
    {
      "cell_type": "markdown",
      "id": "d45a7b9a",
      "metadata": {
        "id": "d45a7b9a"
      },
      "source": [
        "### Operadores 'and' e 'or' nas Declarações Condicionais"
      ]
    },
    {
      "cell_type": "code",
      "execution_count": null,
      "id": "50bac8a6",
      "metadata": {
        "id": "50bac8a6"
      },
      "outputs": [],
      "source": [
        "# Definindo-se as variáveis\n",
        "a = 3\n",
        "b = 4\n",
        "\n",
        "# Controlador de Fluxo 'if' com o operador 'end'\n",
        "if a>b and 2>1:\n",
        "    print('Condição satisfeita!')\n",
        "\n",
        "if a>b-2 and 2>1:\n",
        "    print('Condição satisfeita!')\n",
        "\n",
        "# Estrutura de Controle 'if' com o operador 'or'\n",
        "if a>b or b>a:\n",
        "    print('Sempre verdade?')\n",
        "\n",
        "# Operador 'is'\n",
        "result = 5 > 4\n",
        "if result is False:\n",
        "    print('Resultado é falso')\n",
        "\n",
        "# Operador 'is not'\n",
        "if result is not True:\n",
        "    print('Resultado não é falso!')\n",
        "\n",
        "if 5>4 and 3<2:\n",
        "    print('É porque há algo errado')\n",
        "\n",
        "# A próxima condição é sempre satisfeita\n",
        "x = 2\n",
        "y = 4\n",
        "\n",
        "if x>=1 or x>x**2:\n",
        "    print('Declaração sempre satisfeita!')"
      ]
    },
    {
      "cell_type": "markdown",
      "id": "0885b1af",
      "metadata": {
        "id": "0885b1af"
      },
      "source": [
        "### Alguns Cuidados com os Operadores (Parênteses)"
      ]
    },
    {
      "cell_type": "code",
      "execution_count": null,
      "id": "d2f76da7",
      "metadata": {
        "id": "d2f76da7"
      },
      "outputs": [],
      "source": [
        "# Expressões escritas de forma errada (faltando parênteses!)\n",
        "if 5>2 is not True:\n",
        "    print('\\nCondição Satisfeita!\\n')\n",
        "\n",
        "if 5>2 != 1<10:\n",
        "    print('\\nCondição Satisfeita!\\n')\n",
        "\n",
        "\n",
        "# Operadores 'and', 'or' e 'not' são insenssíveis ao parênteses\n",
        "if 5>2 and 1<10:\n",
        "    print('\\nCondição Satisfeita!\\n')\n",
        "\n",
        "# O 'not' também, em alguns casos\n",
        "if not 5<2:\n",
        "    print('\\nCondição satisfeita..')\n",
        "\n",
        "\n",
        "# O que fazer para consertar as expressões acima?\n",
        "# Adicioinar Parêntesis (adicionar sempre que você tiver dúvida..)\n",
        "if (5>2) is not True:\n",
        "    print('\\nCondição Satisfeita!\\n')\n",
        "\n",
        "if (5>2) != (1<10):\n",
        "    print('\\nCondição Satisfeita!\\n')\n",
        "\n",
        "# OBS: esse mesmo erro acontece sem o Condicional 'if'\n",
        "\n",
        "# O porquê do erro: alguns operadores, exigem um booleano. Se você entra\n",
        "# com uma equação cujo resultado é booleano, ele simplesmente a ignora"
      ]
    },
    {
      "cell_type": "markdown",
      "id": "cd35bf23",
      "metadata": {
        "id": "cd35bf23"
      },
      "source": [
        "### Exercício -  Condicional (ou Controlador de Fluxo) \"If\"\n",
        "\n",
        "Desenvolva um algoritmo que multiplica dois valores, e responda com as seguintes saídas:\n",
        "- O resultado da multiplicação\n",
        "- Se o resultado é negativo e maior do que \"-10\"\n",
        "- Se o resultado é positivo, porém menor que \"+10\"\n",
        "- Se o resultado é igual à unidade\n",
        "\n",
        "Dica: Utilize a função \"input()\" para receber um valor do usuário\n",
        "\n",
        "Dica: Utilize a função \"int()\" para transformar o número em inteiro antes da multiplicação\n",
        "\n",
        "OBS: Não use o \"else\" do \"if/else\"."
      ]
    },
    {
      "cell_type": "code",
      "execution_count": null,
      "id": "e29bd150",
      "metadata": {
        "id": "e29bd150"
      },
      "outputs": [],
      "source": [
        "a = input('Escolha o primeiro número: ')\n",
        "b = input('Escolha o segundo número: ')\n",
        "\n",
        "a = int(a)\n",
        "b = int(b)\n",
        "\n",
        "result = a*b\n",
        "\n",
        "print('A multiplicação desses números é:', result)\n",
        "\n",
        "if result > -10 and result < 0:\n",
        "    print('O resultado é maior que -10, porém menor que 0')\n",
        "\n",
        "if result < 10 and result > 0:\n",
        "    print('O resultado é maior que 0 e menor que 10')\n",
        "\n",
        "if result == 1:\n",
        "    print('O resultado é a unidade')\n",
        "\n",
        "# Se colocarmos um número não inteiro, dá erro de valor"
      ]
    },
    {
      "cell_type": "markdown",
      "id": "8bcd3b90",
      "metadata": {
        "id": "8bcd3b90"
      },
      "source": [
        "### Exercício -  Condicional (ou Controlador de Fluxo) \"If\"\n",
        "\n",
        "Desenvolva um algoritmo que receba duas variáveis como entrada, \"a\" e \"b\", e devolva as seguintes respostas:\n",
        "- \"Esta condição é verdadeira\", caso \"a\" seja menor do que 3 e \"b\" seja maior do que 3;\n",
        "- \"Esta condição é verdadeira\", caso \"a\" não seja menor do que 3 e \"b\" também não seja maior do que 3;\n",
        "- \"Esta condição é falsa\", caso contrário\n",
        "\n",
        "OBS1: Implemente uma versão que aborde o problema do parênteses (em que o condicional \"If\" só funcione corretamente com o parênteses)\n",
        "\n",
        "OBS2: Não use o \"else\" do \"if/else\"."
      ]
    },
    {
      "cell_type": "code",
      "execution_count": null,
      "id": "254944da",
      "metadata": {
        "id": "254944da"
      },
      "outputs": [],
      "source": [
        "a = input('Escolha um valor para \"a\":')\n",
        "b = input('Escolha um valor para \"b\":')\n",
        "\n",
        "a = int(a)\n",
        "b = int(b)\n",
        "\n",
        "if (a<3) == (b>3):\n",
        "    print('Esta condição é verdadeira')\n",
        "\n",
        "if (a<3) != (b>3):\n",
        "    print('Esta condição é falsa')\n",
        "\n",
        "# Aqui seria muito útil se pudéssemos fazer o programa ler somente uma vez\n",
        "# a condição (a<3) == (b>3), e executar uma senteça caso isso fosse verdade,\n",
        "# e outra sentença caso ela fosse mentira..."
      ]
    },
    {
      "cell_type": "markdown",
      "id": "be6a37fa",
      "metadata": {
        "id": "be6a37fa"
      },
      "source": [
        "### Como rodar os códigos se só tenho o Python instalado?\n",
        "\n",
        "Se você não tem IDE para editar os códigos em Python, ou uma plataforma pra executá-los, como o Spyder ou Visual Studio Code\n",
        "\n",
        "Você pode editá-los como arquivos de texto (com o Bloco de Notas, por exemplo), e executá-los diretamente do Prompt de Comando\n",
        "\n",
        "Isso é muito usado se esteja em um computador de placa única, como a Raspberry Pi, ou qualquer outra plataforma em que não seja fácil se instalar o Anaconda ou o Spyder"
      ]
    },
    {
      "cell_type": "markdown",
      "id": "9148ac59",
      "metadata": {
        "id": "9148ac59"
      },
      "source": [
        "### Como rodar um código em Python pelo método mais \"raíz\""
      ]
    },
    {
      "cell_type": "markdown",
      "id": "c1c9ad2a",
      "metadata": {
        "id": "c1c9ad2a"
      },
      "source": [
        "- Clicar na tecla 'Windows Key' e escrever 'Anaconda Prompt'\n",
        "- Caso queira, abra seu ambiente virtual preferido:\n",
        ">    (base) C:\\Users\\marlon.garcia> activate 'nome do ambiente'\n",
        "\n",
        "- Crie uma pasta sua em algum diretório (ex: área de trabalho)\n",
        "- Crie um bloco de notas com o nome 'main'\n",
        "- Abra o arquivo 'main' e escreva um programa em Python (ex: print('Programa executado com sucesso!'))"
      ]
    },
    {
      "cell_type": "markdown",
      "id": "167161b5",
      "metadata": {
        "id": "167161b5"
      },
      "source": [
        "### Como rodar um código em Python pelo método mais \"raíz\""
      ]
    },
    {
      "cell_type": "markdown",
      "id": "ec3d6b65",
      "metadata": {
        "id": "ec3d6b65"
      },
      "source": [
        "- Salve o arquivo 'main' em sua própra extensão '.txt'\n",
        "- Na pasta do arquivo 'main', vá em 'Opções' (No Windows 10, clicar em '...')\n",
        "- Abra a abra 'Modo de Exibição'\n",
        "- Desabilite a opção 'Ocultar extensões de arquivos conhecidos'\n",
        "- Volte na pasta e mude o nome do arquivo de 'main.txt' para 'main.py' (mudança de extensão)\n",
        "- Execute uma das opções do slide a seguir"
      ]
    },
    {
      "cell_type": "markdown",
      "id": "3a56bd96",
      "metadata": {
        "id": "3a56bd96"
      },
      "source": [
        "### Opção 1\n",
        "- Abra a pasta em que o arquivo 'main' se encontra\n",
        "- Copie o caminho da pasta\n",
        "- Abra o Prompt de Comando, escreva 'cd', adicione um espaço em branco ' '\n",
        "- Cole o caminho copiado (Ctrl+Shift+V)\n",
        "\n",
        ">    (base) C:\\Users\\nome_do_usuario> cd caminho_da_pasta\n",
        "\n",
        "### Opção 2\n",
        "- Abra a pasta em que o arquivo 'main' está\n",
        "- Va na parte superior da pasta, onde está escrito o caminho, ex: 'C:\\Users\\Joao\\Downloads'\n",
        "- Apague o caminho, digite 'cmd' e dê enter"
      ]
    },
    {
      "cell_type": "markdown",
      "id": "054e5f55",
      "metadata": {
        "id": "054e5f55"
      },
      "source": [
        "### Execução de Arquivos do Python\n",
        "- A última instrução fará você entrar na pasta em que o arquivo 'main' está, usando o Prompt de Comando\n",
        "- Estando na pasta do arquivo 'main.py', execute o código em Python com o seguinte comando:\n",
        "\n",
        ">    (base) C:\\Users\\caminho_da_pasta_escolhida> python main.py\n",
        "\n",
        "- Teste a execução de outros programas (modificando o programa em arquivo '.txt', por exemplo)"
      ]
    },
    {
      "cell_type": "markdown",
      "id": "898b89f6",
      "metadata": {
        "id": "898b89f6"
      },
      "source": [
        "### Declarações Condicionais com \"If\" e \"Else\"\n"
      ]
    },
    {
      "cell_type": "code",
      "execution_count": null,
      "id": "66009203",
      "metadata": {
        "id": "66009203"
      },
      "outputs": [],
      "source": [
        "if <condição 1>:\n",
        "    <declaração executada se a condição 1 for verdade>\n",
        "else:\n",
        "    <declaração executada se a condição 1 não for verdade>"
      ]
    },
    {
      "cell_type": "markdown",
      "id": "4ed39ad5",
      "metadata": {
        "id": "4ed39ad5"
      },
      "source": [
        "### Uso do \"If\" e \"Else\": Considere o Exercício anterior\n",
        "\n",
        "- \"Esta condição é verdadeira\", caso \"a\" seja menor do que 3 e \"b\" seja maior do que 3;\n",
        "- \"Esta condição é verdadeira\", caso \"a\" não seja menor do que 3 e \"b\" também não seja maior do que 3;\n",
        "- \"Esta condição é falsa\", caso contrário"
      ]
    },
    {
      "cell_type": "code",
      "execution_count": null,
      "id": "bf322933",
      "metadata": {
        "id": "bf322933"
      },
      "outputs": [],
      "source": [
        "# Se eu não puder usar o \"Else\", o texto do código não fica flúido,\n",
        "# pois eu tenho que escrever a condição inteira, novamente.\n",
        "if (a<3) == (b>3):\n",
        "    print('Esta condição é verdadeira')\n",
        "\n",
        "if (a<3) != (b>3):\n",
        "    print('Esta condição é falsa')\n",
        "\n",
        "\n",
        "if (a<3) == (b>3):\n",
        "    print('Esta condição é verdadeira')\n",
        "else:\n",
        "    print('Esta condição é falsa')"
      ]
    },
    {
      "cell_type": "markdown",
      "id": "f58307e6",
      "metadata": {
        "id": "f58307e6"
      },
      "source": [
        "### Exercício - Execução de Condicional com \"If\" e \"Else\"\n",
        "\n",
        "Desenvolva um algoritmo em que se entre com a nota e com a frequência, e ele responda:\n",
        "- 'Aluno aprovado, ou reprovado' caso a nota e a presença sejam satisfatórias, e caso ambas sejam insatisfatórias\n",
        "- 'Aluno em recuperação' se a nota for insatisfatória, ou a presença for insatisfatória, exclusivamente\n",
        "\n",
        "OBS1: A nota para a aprovação é 5, e a presença para a aprovação é de 70%. Porém, o sistema arredonda 4.9 como aprovado.\n",
        "OBS2: Use uma condicional que somente seja executada se estiver entre parênteses. Use somente um \"If\" e um \"Else\""
      ]
    },
    {
      "cell_type": "code",
      "execution_count": null,
      "id": "4914bced",
      "metadata": {
        "id": "4914bced"
      },
      "outputs": [],
      "source": [
        "''' Programa de Acompanhamento do Aluno\n",
        "\n",
        "Este programa é dedicado à averiguação da condição do\n",
        "aluno, quanto à reprovação ou aprovação na disciplina,\n",
        "tendo a nota e a frequência como entrada.\n",
        "\n",
        "@autor: Marlon Rodrigues Garcia\n",
        "@instituição: Universidade Estadual Paulista - Unesp\n",
        "'''\n",
        "\n",
        "# Primeiramente, o usuário entra com os valores\n",
        "nota = input('Digite a nota: ')\n",
        "frequencia = input('Digite a frequencia: ')\n",
        "\n",
        "# Posteriormente, transforma-se a 'string' em valor\n",
        "# 'inteiro' ou em 'float'\n",
        "nota = float(nota)\n",
        "frequencia = int(frequencia)\n",
        "\n",
        "# Finalmente, executa-se a condição para verificar\n",
        "# se o aluno está aprovado, reprovado, ou se caresse\n",
        "# de recuperação\n",
        "if (nota>=4.9) == (frequencia>=70):\n",
        "    print('Aluno aprovado, ou reprovado')\n",
        "else:\n",
        "    print('Aluno em recuperação')"
      ]
    },
    {
      "cell_type": "markdown",
      "id": "bb519324",
      "metadata": {
        "id": "bb519324"
      },
      "source": [
        "### Legibilidade e Velocidade\n",
        "\n",
        "- Não é só a economia de caractéres, mas também a velocidade de escrita, e principalmente a legibilidade do código!\n",
        "\n",
        "- Sem o \"If/Else\", o desenvolvedor tería que interpretar o dobro de condicionais\n",
        "\n",
        "- A diminuição do número de condicionais e mudanças de fluxo do programa aumentam em muito a fluidez/dinâmica da leitura e escrita das linguagens de programação."
      ]
    },
    {
      "cell_type": "markdown",
      "id": "47038876",
      "metadata": {
        "id": "47038876"
      },
      "source": [
        "### Declarações Condicionais com 'If', 'Else' e 'Elif'\n",
        "\n"
      ]
    },
    {
      "cell_type": "code",
      "execution_count": null,
      "id": "6cfad61d",
      "metadata": {
        "id": "6cfad61d"
      },
      "outputs": [],
      "source": [
        "if <condição 1>:\n",
        "    <se condição 1 é verdade>\n",
        "elif <condição 2>:\n",
        "    <se condição 2 é verdade>\n",
        "else:\n",
        "    <se nenhuma condição for satisfeita>"
      ]
    },
    {
      "cell_type": "markdown",
      "id": "7b0b44f2",
      "metadata": {
        "id": "7b0b44f2"
      },
      "source": [
        "### A Utilidade do \"If / Elif / Else\""
      ]
    },
    {
      "cell_type": "code",
      "execution_count": null,
      "id": "f70f26bc",
      "metadata": {
        "id": "f70f26bc"
      },
      "outputs": [],
      "source": [
        "x = input('Entre com o valor de x:')\n",
        "y = input('Entre com o valor de y:')\n",
        "\n",
        "x = float(x)\n",
        "y = float(y)\n",
        "\n",
        "if x > y:\n",
        "    print(\"x é maior do que y\")\n",
        "elif x < y:\n",
        "    print(\"y é maior do que x\")\n",
        "else:\n",
        "    print(\"x é igual à y!\")\n",
        "\n",
        "# Verifique o quanto é simples de ler e escrever esse código, e o\n",
        "# quanto não seria flúido se nós tentássemos escrevê-lo sem \"elif/else\""
      ]
    },
    {
      "cell_type": "markdown",
      "id": "6407301e",
      "metadata": {
        "id": "6407301e"
      },
      "source": [
        "### Cuidados com o \"If / Elif / Else\"\n",
        "\n",
        "- Somente a primeira condição satisfeita será executada\n",
        "- Ou seja, ou se executa o \"if\", ou o \"elif\", ou o \"else\""
      ]
    },
    {
      "cell_type": "code",
      "execution_count": null,
      "id": "323ae3ba",
      "metadata": {
        "id": "323ae3ba"
      },
      "outputs": [],
      "source": [
        "x = 8\n",
        "\n",
        "# Verifique que se o \"if\" for executado, as próximas condições não serão\n",
        "# processadas, mesmo que sejam verdade:\n",
        "if x > 5:\n",
        "    print('x é maior do que 5')\n",
        "elif x < 10:\n",
        "    print('x é menor do que 10')\n",
        "else:\n",
        "    print('x é menor do que 5 ou maior do que 10')\n",
        "\n",
        "# Desenvolvendo um programa para pintar o carro\n",
        "cor = input('Escolha uma cor para pintar o carro:')\n",
        "\n",
        "if cor == 'azul':\n",
        "    print('Seu carro foi pintado de azul')\n",
        "elif cor == 'vermelho':\n",
        "    print('Seu carro foi pintado de vermelho')\n",
        "elif cor == 'branco':\n",
        "    print('Seu carro foi pintado de branco')\n",
        "elif cor == 'prata':\n",
        "    print('Seu carro foi pintado de prata')\n",
        "else:\n",
        "    print('Cor não reconhecida')"
      ]
    },
    {
      "cell_type": "markdown",
      "id": "84092a50",
      "metadata": {
        "id": "84092a50"
      },
      "source": [
        "### Exercício - O Condicional \"If/Elif/Else\"\n",
        "\n",
        "Desenvolva um algoritmo que pergunte o valor de x, o valor de y, e qual a operação a ser realizada. Em seguida, o programa executa a operação, e fornece como saída uma \"string\" com a operação escolhida, e o resultado da operação, como: \"x + y = 5\""
      ]
    },
    {
      "cell_type": "code",
      "execution_count": null,
      "id": "d2bafb57",
      "metadata": {
        "id": "d2bafb57"
      },
      "outputs": [],
      "source": [
        "x = input('Digite um valor para x:')\n",
        "y = input('Digite um valor para y:')\n",
        "operacao = input('Qual operação deseja fazer?')\n",
        "\n",
        "x = float(x)\n",
        "y = float(y)\n",
        "\n",
        "if operacao == 'soma':\n",
        "    print('x + y = ', x+y)\n",
        "elif operacao == 'subtração':\n",
        "    print('x - y = ', x-y)\n",
        "elif operacao == 'multiplicação':\n",
        "    print('x * y = ', x*y)\n",
        "elif operacao == 'divisão':\n",
        "    print('x / y = ', x/y)\n",
        "else:\n",
        "    print('Operação não reconhecida')"
      ]
    },
    {
      "cell_type": "markdown",
      "id": "378d6fc1",
      "metadata": {
        "id": "378d6fc1"
      },
      "source": [
        "### Exercício - Retorne ao Exercício da Nota e Frequência\n",
        "\n",
        "Retorne ao exercício da nota e frequência, porém agora o programa irá responder:\n",
        "- 'Aluno aprovado' caso a nota e a presença sejam satisfatórias\n",
        "- 'Aluno reprovado' caso ambas sejam insatisfatórias\n",
        "- 'Aluno em recuperação' se somente uma delas seja satisfatória, e a outra insatisfatória\n",
        "\n",
        "OBS1: A nota para a aprovação é 5, e a presença para a aprovação é de 70%. Porém, o sistema arredonda 4.9 como aprovado.\n",
        "OBS2: Utilize \"If\" \"Elif\" e \"Else\""
      ]
    },
    {
      "cell_type": "markdown",
      "id": "4a915386",
      "metadata": {
        "id": "4a915386"
      },
      "source": [
        "### Estruturas de Repetição - Laço While\n",
        "\n",
        "Estruturas de Repetição *While* são estruturas que executam um bloco de código enquanto uma condição for satisfeita\n",
        "\n",
        "Existem duas maneiras de se executar o Laço *While*:"
      ]
    },
    {
      "cell_type": "code",
      "execution_count": null,
      "id": "78e8b388",
      "metadata": {
        "id": "78e8b388"
      },
      "outputs": [],
      "source": [
        "# Somente o While\n",
        "while <condição>:\n",
        "    <sentença a ser repetida>\n",
        "\n",
        "# Estrutura While-else\n",
        "while <condição>:\n",
        "    <sentença a ser repetida>\n",
        "else:\n",
        "    <sentença executada após as repetições do while>"
      ]
    },
    {
      "cell_type": "markdown",
      "id": "57ac3655",
      "metadata": {
        "id": "57ac3655"
      },
      "source": [
        "### Estruturas de Repetição - Laço While"
      ]
    },
    {
      "cell_type": "code",
      "execution_count": null,
      "id": "5c9800de",
      "metadata": {
        "id": "5c9800de"
      },
      "outputs": [],
      "source": [
        "x = 10\n",
        "\n",
        "while x > 0:\n",
        "    print('O valor de x é: ', x)\n",
        "    x -= 1\n",
        "else:\n",
        "    print('As iterações acabaram')"
      ]
    },
    {
      "cell_type": "markdown",
      "id": "9ca56d2b",
      "metadata": {
        "id": "9ca56d2b"
      },
      "source": [
        "### Estruturas de Repetição - Laço While"
      ]
    },
    {
      "cell_type": "code",
      "execution_count": null,
      "id": "8a37e394",
      "metadata": {
        "id": "8a37e394"
      },
      "outputs": [],
      "source": [
        "x = 0\n",
        "\n",
        "# While para se verificar a paridade dos valores de 'x'\n",
        "while x < 10:\n",
        "    # Imprimindo o valor de 'x'\n",
        "    print('O valor de x é: ', x)\n",
        "\n",
        "    # Descobrindo se 'x' é par ou ímpar\n",
        "    if x%2 == 0:\n",
        "        print(f'\\tO número {x} é par!')\n",
        "    else:\n",
        "        print(f'\\tO número {x} é ímpar..')\n",
        "\n",
        "    # Incrementa-se o valor de 'x'\n",
        "    x += 1\n",
        "else:\n",
        "    print('As iterações acabaram')"
      ]
    },
    {
      "cell_type": "markdown",
      "id": "bffc3ea8",
      "metadata": {
        "id": "bffc3ea8"
      },
      "source": [
        "### Exercício - Estrutura de Repetição com Laço While\n",
        "\n",
        "Faça um programa que jogue dois dados, e tenha três chances para que ambos sejam maior ou igual a três. Caso ambos dados sejam maior do que três, o programa deve imprimir o valor dos dois dados, e encerrar o Laço de Repetição usando o comando 'break' (que quebra qualquer laço ou condicional). Caso nenhuma das tentativas tenha sucesso, o programa deve retornar 'Os valores não são >= 3'.\n",
        "\n",
        "Utilize a biblioteca *random* para criar o número aleatório com o valor do dado:\n",
        "> import random\\\n",
        "> dado1 = random.randint(1, 6)"
      ]
    },
    {
      "cell_type": "code",
      "execution_count": null,
      "id": "2626756e",
      "metadata": {
        "id": "2626756e"
      },
      "outputs": [],
      "source": [
        "import random\n",
        "\n",
        "tentativas = 3\n",
        "\n",
        "while tentativas > 0:\n",
        "    dado1 = random.randint(1, 6)\n",
        "    dado2 = random.randint(1, 6)\n",
        "    if dado1>3 and dado2>3:\n",
        "        print(f'Os valores dos dados foram {dado1} e {dado2}.')\n",
        "        break\n",
        "    tentativas -= 1\n",
        "else:\n",
        "    print('Os valores não foram >= 3!')"
      ]
    },
    {
      "cell_type": "markdown",
      "id": "8f14bbea",
      "metadata": {
        "id": "8f14bbea"
      },
      "source": [
        "### Estruturas de Repetição - Laço For\n",
        "\n",
        "O \"For\" é uma Estrutura de Repetição que executa um dado 'Bloco de Código' um número fixo de vezes, considerando uma sequência específica dos elementos de um 'Objeto Iterável', como uma 'Lista' ou um 'Range'"
      ]
    },
    {
      "cell_type": "code",
      "execution_count": null,
      "id": "11abcc81",
      "metadata": {
        "id": "11abcc81"
      },
      "outputs": [],
      "source": [
        "# Definindo-se os elementos 'fruta' da lista chamada 'sacola'\n",
        "sacola = ['laranja', 'pera', 'maça', 'uva']\n",
        "\n",
        "# Imprime-se todos os elementos da lista\n",
        "for fruta in sacola:\n",
        "    print('A fruta é:', fruta)"
      ]
    },
    {
      "cell_type": "markdown",
      "id": "4f1e1eb3",
      "metadata": {
        "id": "4f1e1eb3"
      },
      "source": [
        "### Estruturas de Repetição - Laço For\n",
        "\n",
        "O \"for\" pode ser iterado em uma 'lista' ou em um 'range'. Ambos são 'objetos iteráveis'\n",
        "\n",
        "Note que, em Python, a utilização de 'range(0,5)' faz com que o algoritmo itere sobre os valores {0, 1, 2, 3, 4}, desconsiderando-se o último valor, que seria '5'. Essa é a regra de sintaxe do Python!"
      ]
    },
    {
      "cell_type": "code",
      "execution_count": null,
      "id": "af0c4f2e",
      "metadata": {
        "id": "af0c4f2e"
      },
      "outputs": [],
      "source": [
        "# Utilizando-se o 'for' com o objeto iterável 'range'\n",
        "for x in range(0, 5):\n",
        "    print(f'O valor de x é {x}')"
      ]
    },
    {
      "cell_type": "markdown",
      "id": "9e18ef6e",
      "metadata": {
        "id": "9e18ef6e"
      },
      "source": [
        "### Estruturas de Repetição - Laço 'For / Else'"
      ]
    },
    {
      "cell_type": "code",
      "execution_count": null,
      "id": "22645358",
      "metadata": {
        "id": "22645358"
      },
      "outputs": [],
      "source": [
        "# Utilizando-se o comando 'break' dentro do 'for'\n",
        "for x in range(0, 10, 2):\n",
        "    print(f'O valor de x é {x}')\n",
        "    if x == 6:\n",
        "        break\n",
        "\n",
        "# Utilizando-se o laço 'For-Else'\n",
        "mochila = ['caderno', 'estojo', 'régua', 'celular']\n",
        "for item in mochila:\n",
        "    print(f'Remove-se o {item} da mochila...')\n",
        "else:\n",
        "    print('\\nAcabaram-se os itens!')"
      ]
    },
    {
      "cell_type": "markdown",
      "id": "69147cce",
      "metadata": {
        "id": "69147cce"
      },
      "source": [
        "### Exercício - Estruturas de Repetição - Laço For\n",
        "\n",
        "Escreva um algoritmo para imprimir o quadrado de 'x', até que esse valor seja maior ou igual que um valor gerado aleatóriamente. Para tanto, escreva um Laço de Repetição com um 'objeto iterável' que incremente de 0 à 9, de um em um (esse será o 'x'). A cada iteração, imprima o valor do objeto iterável elevado ao quadrado (x ** 2), e compare-o com um valor gerado aleatóriamente de 0 à 100, definido no início do programa. Caso 'x ** 2' seja maior que o valor gerado aleatoriamente, imprima se o valor de 'x' é par ou ímpar, e 'quebre o loop' com o comando *break*. Caso o iterável itere até o final sem ser maior do que o valor aleatório, imprima 'O valor aleatório é > 81'"
      ]
    },
    {
      "cell_type": "code",
      "execution_count": null,
      "id": "fc9dd116",
      "metadata": {
        "id": "fc9dd116"
      },
      "outputs": [],
      "source": [
        "import random\n",
        "\n",
        "valor = random.randint(0, 100)\n",
        "for x in range(0, 10):\n",
        "    print(f'xˆ2 é {x**2}')\n",
        "    if x**2 >= valor:\n",
        "        if x%2 == 0:\n",
        "            print(f'{x} é um valor par')\n",
        "        else:\n",
        "            print(f'{x} é um valor ímpar')\n",
        "        break\n",
        "else:\n",
        "    print('O valor aleatório é > 81')"
      ]
    },
    {
      "cell_type": "markdown",
      "id": "48b617b0",
      "metadata": {
        "id": "48b617b0"
      },
      "source": [
        "### Operadores Binários"
      ]
    },
    {
      "cell_type": "code",
      "execution_count": null,
      "id": "777f602a",
      "metadata": {
        "id": "777f602a"
      },
      "outputs": [],
      "source": [
        "a = 0b0011   # 3 em binário\n",
        "b = 0b0101   # 5 em binário\n",
        "\n",
        "# Operador AND binário\n",
        "result = a & b\n",
        "\n",
        "# Operador OR binário\n",
        "result = a | b\n",
        "\n",
        "# Operador Negação em binário\n",
        "result = ~a\n",
        "\n",
        "# Operador \"ou exclusivo\" em binário\n",
        "result = a ^ b\n",
        "\n",
        "# Operador \"deslocamento para direita\" por \"n\" dígitos\n",
        "result = a << 2\n",
        "\n",
        "# Operador \"deslocamento para esquerda\" por \"n\" dígitos\n",
        "result = a >> 2\n",
        "\n",
        "print(bin(result))"
      ]
    },
    {
      "cell_type": "markdown",
      "id": "a5e52107",
      "metadata": {
        "id": "a5e52107"
      },
      "source": [
        "### Exercício - Operadores Binários\n",
        "\n",
        "- Transforme o número binário '0b0100' em '0b0010' com uma operação\n",
        "- Transforme o número binário '0b0001' em '0b1011' com duas operações\n",
        "\n",
        "OBS: Somente as variáveis \"0b0000\" e \"0b1111\" podem ser usadas para realizar as operações."
      ]
    },
    {
      "cell_type": "code",
      "execution_count": null,
      "id": "f7fd9a4c",
      "metadata": {
        "id": "f7fd9a4c"
      },
      "outputs": [],
      "source": [
        "a = 0b0100\n",
        "b = 0b0001\n",
        "c = 0b0000\n",
        "d = 0b1111\n",
        "\n",
        "# Primeira Questão\n",
        "result = a >> 1\n",
        "\n",
        "# Segunda Questão\n",
        "result = b << 2\n",
        "result = result ^ d\n",
        "\n",
        "print(bin(result))"
      ]
    },
    {
      "cell_type": "markdown",
      "id": "34110e20",
      "metadata": {
        "id": "34110e20"
      },
      "source": [
        "### Operadores Binários nas Declarações Condicionais?"
      ]
    },
    {
      "cell_type": "markdown",
      "id": "42ad0887",
      "metadata": {
        "id": "42ad0887"
      },
      "source": [
        "Cuidado para não se utilizar operadores binários como expressões boolea nas Declarações Condicionais\n",
        "\n",
        "Essa mistura acontece muito nos algoritmos que se encontra na internet\n",
        "\n",
        "Enquanto se utilizar 'True' ou 'False' junto com eles (&, |, ~, ^), quase tudo dá certo\n",
        "\n",
        "Porém não se pode usar Operadores Binários com números na base 10 (veremos a seguir)"
      ]
    },
    {
      "cell_type": "markdown",
      "id": "1b1c0124",
      "metadata": {
        "id": "1b1c0124"
      },
      "source": [
        "### Operadores Binários nas Declarações Condicionais?"
      ]
    },
    {
      "cell_type": "code",
      "execution_count": null,
      "id": "37776647",
      "metadata": {
        "id": "37776647"
      },
      "outputs": [],
      "source": [
        "# Os operadores binários entendem os números da base 10 como binários\n",
        "# Por exemplo, o número 7 (que obviamente está na base 10) é entendido\n",
        "# como sendo 0111 em binário\n",
        "3 & 4\n",
        "\n",
        "7 & 6\n",
        "\n",
        "3 | 4\n",
        "\n",
        "True & True\n",
        "\n",
        "True & False\n",
        "\n",
        "True | False\n",
        "\n",
        "True | True\n",
        "\n",
        "# 'And' e 'or' vão curto-circuitar, já '&' e '|' não\n",
        "if 5<3 or 1>0.5: print('yes')\n",
        "if 5<3 | 1>0.5: print('yes')\n",
        "if 5>3 | 1>0.5: print('yes')\n",
        "\n",
        "# O operador bit a bit tem maior precedência que o booleano:\n",
        "0 < 1 & 0 < 2\n",
        "# Isso ocorre porque '0 < 1 & 0 < 2' é o mesmo que dizer '0 < (1 & 0) < 2'\n",
        "0 <= 1 & 0 < 2\n",
        "\n",
        "# A mesma questão do parênteses se aplica aqui:\n",
        "if 5>3 | 5>10: print('yes')\n",
        "if (5>3) | (5>10): print('yes')\n",
        "# Por conta da última linha, muita gente usa os operadores binários em condicionais\n",
        "\n",
        "# Existem ainda outras questões em se substituir booleanos por operadores binários...\n",
        "\n",
        "# Prefira não usar '&' e '|' como substitutos de 'and' e 'or'"
      ]
    },
    {
      "cell_type": "markdown",
      "id": "fc39d477",
      "metadata": {
        "id": "fc39d477"
      },
      "source": [
        "### A Biblioteca NumPy (Numerical Python)\n",
        "\n",
        "https://numpy.org/doc/stable/user/absolute_beginners.html\n",
        "\n",
        "É uma Biblioteca escrita, em boa parte, em C/C++ para a aceleração de suas computações"
      ]
    },
    {
      "cell_type": "code",
      "execution_count": null,
      "id": "331382fd",
      "metadata": {
        "id": "331382fd"
      },
      "outputs": [],
      "source": [
        "import numpy as np\n",
        "\n",
        "print(np.pi)\n",
        "print(np.e)\n",
        "\n",
        "# Definindo-se um vetor com 'array'\n",
        "a = np.array([1, 2, 3, 4, 5])\n",
        "# Definindo-se uma matriz com 'array'\n",
        "a = np.array([[1, 2, 3], [4, 5, 6], [7, 8, 9]])\n",
        "# Outra forma de se escrever a mesma matriz (mais elusiva à geometria da matriz)\n",
        "a = np.array([[1, 2, 3],\n",
        "              [4, 5, 6],\n",
        "              [7, 8, 9]])\n",
        "\n",
        "# Funções 'build-in' dos arrays\n",
        "print(a)\n",
        "print(a.shape)\n",
        "print(a.size)\n",
        "print(a.dtype)\n",
        "print(type(a))"
      ]
    },
    {
      "cell_type": "markdown",
      "id": "27947c74",
      "metadata": {
        "id": "27947c74"
      },
      "source": [
        "### A Biblioteca NumPy (Numerical Python)"
      ]
    },
    {
      "cell_type": "code",
      "execution_count": null,
      "id": "b58610a2",
      "metadata": {
        "id": "b58610a2"
      },
      "outputs": [],
      "source": [
        "import numpy as np\n",
        "\n",
        "lista = [1, 2, 3, 4, 5]\n",
        "\n",
        "# Para transformar uma variável em array, tenho duas opções\n",
        "a = np.array(lista)\n",
        "a = np.asarray(lista)\n",
        "# Qual devo usar? Vamos aprender a fazer uma pesquisa\n",
        "# na Internet, ou usar o Stack Overflow\n",
        "\n",
        "# Usando-se parentes para selecionar sub-arrays\n",
        "print(a)\n",
        "print(a[1])   # Imprimi-se o segundo valor, '2', pois Python começa em '0'\n",
        "print(a[0:1]) # Imprime somente o '1', pois o Python vai até o penúltimo valor\n",
        "print(a[0:5])\n",
        "# Com argumentos negativos\n",
        "print(a[-1])\n",
        "print(a[-2])\n",
        "print(a[-5:-1])\n",
        "\n",
        "# Definindo-se utras funções\n",
        "print(np.max(a))\n",
        "print(np.min(a))\n",
        "print(np.mean(a))\n",
        "print(np.std(a))"
      ]
    },
    {
      "cell_type": "markdown",
      "id": "d494302e",
      "metadata": {
        "id": "d494302e"
      },
      "source": [
        "### A Biblioteca NumPy (Numerical Python)"
      ]
    },
    {
      "cell_type": "code",
      "execution_count": null,
      "id": "9ed6fc2b",
      "metadata": {
        "id": "9ed6fc2b"
      },
      "outputs": [],
      "source": [
        "import numpy as np\n",
        "\n",
        "lista = [[1, 2, 3], [4, 5, 6], [7, 8, 9]]\n",
        "\n",
        "# Como transformar lista em array\n",
        "a = np.array(lista)\n",
        "a = np.asarray(lista)\n",
        "\n",
        "# Usando-se parentes para selecionar sub-arrays\n",
        "print(a[0])\n",
        "print(a[0,0])\n",
        "print(a[-1,-1])\n",
        "print(a[0:2,0:2])\n",
        "# Uma outra forma de se escrever\n",
        "print(a[-1][-1])\n",
        "print(a[0][0])\n",
        "# A próxima seleção não é o mesmo que 'a[0:2,0:2]'\n",
        "print(a[0:2][0:2])\n",
        "\n",
        "# Algumas funções\n",
        "print(np.max(a))\n",
        "print(np.min(a))\n",
        "print(np.mean(a))\n",
        "print(np.std(a))"
      ]
    },
    {
      "cell_type": "markdown",
      "id": "ca6b60a5",
      "metadata": {
        "id": "ca6b60a5"
      },
      "source": [
        "### Exercício - NumPy e Laço For\n",
        "\n",
        "Denvolva um programa que crie uma matriz 3x3, elemento a elemento, com valores aleatórios de 1 a 10. A cada uma das 9 iterações, verifique se a média dos elementos da matriz é maior do que três. Se isso acontecer, imprima na tela o valor mínimo, máximo, a média e o desvio padrão dos elementos da matriz, imprima a matriz inteira, e pare a execução do programa."
      ]
    },
    {
      "cell_type": "code",
      "execution_count": null,
      "id": "5b1a78ae",
      "metadata": {
        "id": "5b1a78ae"
      },
      "outputs": [],
      "source": [
        "import random\n",
        "import numpy as np\n",
        "\n",
        "# Iniciando a matriz com zeros, para podermos adicionar valores à ela\n",
        "# ao longo de um laço 'for' (se não teríamos que criar uma nova matriz\n",
        "# a cada iteração, o que não seria eficiente computacionalmente)\n",
        "matriz = np.zeros([3, 3])\n",
        "# Define-se uma bandeira (flag) inicialmente como falsa. Ela irá nos\n",
        "# avisar quando a condição 'média maior do que 3' for satisfeita\n",
        "flag = False\n",
        "\n",
        "# Faz-se um laço \"for\" para ir adicionando elementos, linha a linha,\n",
        "# coluna a coluna, verificando-se a média da matriz a cada iteração\n",
        "for l in range(0, 3):\n",
        "    for c in range(0, 3):\n",
        "        # Cria-se um elemento aleatoriamente\n",
        "        elemento = np.random.randint(1, 10)\n",
        "        # Adiciona-se esse elemento à matriz\n",
        "        matriz[l, c] = elemento\n",
        "        # Se a média da matriz for maior do que 3, saia dos 2 loops\n",
        "        if np.mean(matriz[matriz>0])>3:\n",
        "            print(f'O valor mínimo é {np.min(matriz)}')\n",
        "            print(f'O valor máximo é {np.max(matriz)}')\n",
        "            print(f'O valor médio é {np.mean(matriz)}')\n",
        "            print(f'O desvio padrão é {np.std(matriz)}')\n",
        "            # Caso a condição seja satisfeita, devo enviar uma 'flag'\n",
        "            # (uma sinalização) para o \"for\" externo\n",
        "            flag = True\n",
        "            # Saindo do \"for\" das colunas\n",
        "            break\n",
        "    # Caso a média da matriz tenha sido > 3, saia do \"for\" das linhas\n",
        "    if flag == True:\n",
        "        print(matriz)\n",
        "        break"
      ]
    },
    {
      "cell_type": "markdown",
      "id": "9bbf107b",
      "metadata": {
        "id": "9bbf107b"
      },
      "source": [
        "### Outras Matrizes  NumPy"
      ]
    },
    {
      "cell_type": "code",
      "execution_count": null,
      "id": "6309d3ef",
      "metadata": {
        "id": "6309d3ef"
      },
      "outputs": [],
      "source": [
        "import numpy as np\n",
        "\n",
        "# Definindo-se uma matriz de zeros\n",
        "matriz = np.zeros([3,3])\n",
        "# Definindo-se uma matriz de valores 1\n",
        "matriz = np.ones([3,3])\n",
        "# Definindo-se uma matriz de identidade\n",
        "matriz = np.identity(3)\n",
        "# Definindo-se uma matriz de identidade, porém que pode ter\n",
        "# os valores da diagonal deslocados. 'np.eye' é mais usado\n",
        "matriz = np.eye(5, k=1)\n",
        "# Criando-se uma matriz com diferentes tipos de dados para os\n",
        "# elementos (teste np.uint8, np.int16, complex)\n",
        "matriz = np.ones([3,3], dtype=complex)\n",
        "\n",
        "print(matriz)\n",
        "print('\\nO tipo de dado da matriz: ', matriz.dtype)\n",
        "\n",
        "# A utilização do comando 'len()' retorna o tamanho do vetor ou matriz:\n",
        "v = np.array([1, 2, 3, 4, 5])\n",
        "print('\\n\\nO tamanho do vetor a é', len(v))\n",
        "\n",
        "m = np.eye(5)\n",
        "print('\\n\\nO tamanho da matriz a é', len(m))"
      ]
    },
    {
      "cell_type": "markdown",
      "id": "2db83f3d",
      "metadata": {
        "id": "2db83f3d"
      },
      "source": [
        "### Outras Funções do NumPy"
      ]
    },
    {
      "cell_type": "code",
      "execution_count": null,
      "id": "5a9657ce",
      "metadata": {
        "id": "5a9657ce"
      },
      "outputs": [],
      "source": [
        "import numpy as np\n",
        "\n",
        "# Utilizando-se o comando 'np.linspace' para se criar um array com elementos\n",
        "# equiespaçados de um certo valor inicial (start) até um valor final (stop)\n",
        "# com um certo número (num) de elementos. Utilize o help do Python para ler\n",
        "# a documentação da função: 'help(np.linspace)'\n",
        "\n",
        "# Criando-se um array com valores de 1 a 10, e 20 elementos\n",
        "x = np.linspace(1, 10, 20)\n",
        "print(x)\n",
        "print('\\nO tamanho de x é', len(x))\n",
        "\n",
        "# Veja que a função 'np.linspace' não está preocupada com o espaçamento\n",
        "# entre os elementos. Para isso, iremos usar a função 'np.arrange'.\n",
        "# Use o 'help(np.arange)' para aprender mais sobre a função...\n",
        "y = np.arange(1, 10, 0.5)\n",
        "print(y)\n",
        "\n",
        "# Utilizando-se o 'np.linspace' para criar o argumento de uma função\n",
        "# matemática. Teste as funções 'np.sin', 'np.cos', 'np.exp', 'np.sqrt',\n",
        "# e verifique se os valores estão condizentes\n",
        "x = np.linspace(0, 2*np.pi, 10)\n",
        "f = np.sin(x)\n",
        "\n",
        "print(f)"
      ]
    },
    {
      "cell_type": "markdown",
      "id": "ddeca394",
      "metadata": {
        "id": "ddeca394"
      },
      "source": [
        "### A Biblioteca Matplotlib\n",
        "\n",
        "A biblioteca mais usada para se plotar gráficos, visualizações e criação de animações\n",
        "\n",
        "https://matplotlib.org/"
      ]
    },
    {
      "cell_type": "code",
      "execution_count": null,
      "id": "ebc1aa59",
      "metadata": {
        "id": "ebc1aa59"
      },
      "outputs": [],
      "source": [
        "import numpy as np\n",
        "# Importando-se parte da biblioteca Matplotlib que será necessária\n",
        "import matplotlib.pyplot as plt\n",
        "\n",
        "# Crie o argumento 'x' das funções a serem impressas\n",
        "x = np.linspace(1, 10, 20)\n",
        "\n",
        "# Imprimindo-se o gráfico da seno de x. Note que esse é o jeito\n",
        "# errôneo de se utilizar o comando 'plt.plot', veremos na sequência\n",
        "f = np.sin(x)\n",
        "plt.plot(f)\n",
        "\n",
        "# Imprimindo-se, agora, o gráfico do cosseno de x\n",
        "f = np.cos(x)\n",
        "plt.plot(f)\n",
        "\n",
        "# Veja que o comando não funcionou como esperado, os dois gráficos\n",
        "# ficaram sobrepostos, e o início dos valores não bate com o que\n",
        "# definimos no comando 'np.linspace'. Use a documentação para veri-\n",
        "# ficar a diferença (no website do Matplotlib, ou usando o comando\n",
        "# 'help(plt.plot)', que pode ser utilizado para qualquer biblioteca)\n",
        "\n",
        "# OBS: Note que para todo o gráfico que se queira plotar, há um\n",
        "# exemplo disponível no website da biblioteca Matplotlib (com código)\n",
        "\n",
        "\n",
        "# Utilizando-se o Matplotlib da maneira correta\n",
        "x = np.linspace(0, 10, 1000)\n",
        "f = x**2\n",
        "\n",
        "plt.subplots()\n",
        "plt.plot(x, f)\n",
        "plt.title('Gráfico da Raíz Quadrada')\n",
        "plt.xlabel('Texto do Eixo x')\n",
        "plt.ylabel('Texto do Eixo y')\n",
        "plt.show()"
      ]
    },
    {
      "cell_type": "markdown",
      "id": "99bebbb9",
      "metadata": {
        "id": "99bebbb9"
      },
      "source": [
        "### A Biblioteca Matplotlib"
      ]
    },
    {
      "cell_type": "code",
      "execution_count": null,
      "id": "38132a04",
      "metadata": {
        "id": "38132a04"
      },
      "outputs": [],
      "source": [
        "import matplotlib.pyplot as plt\n",
        "\n",
        "x = np.linspace(0, 2*np.pi, 1000)\n",
        "f1 = np.sin(x)\n",
        "f2 = np.cos(x)\n",
        "\n",
        "plt.subplots()\n",
        "plt.plot(x, f1)\n",
        "plt.plot(x, f2)\n",
        "plt.title('Gráfico da Raíz Quadrada')\n",
        "plt.xlabel('Texto do Eixo x')\n",
        "plt.ylabel('Texto do Eixo y')\n",
        "plt.show()\n",
        "\n",
        "# Imprimindo-se um primeiro gráfico\n",
        "x = np.linspace(0, 2*np.pi, 1000)\n",
        "f1 = np.sin(x)\n",
        "f2 = np.cos(x)\n",
        "\n",
        "plt.subplots()\n",
        "plt.grid()\n",
        "plt.plot(x, f1, '--')\n",
        "plt.plot(x, f2, '-.')\n",
        "plt.title('Gráfico da Raíz Quadrada')\n",
        "plt.xlabel('Texto do Eixo x')\n",
        "plt.ylabel('Texto do Eixo y')\n",
        "plt.show()"
      ]
    },
    {
      "cell_type": "markdown",
      "id": "b75413e4",
      "metadata": {
        "id": "b75413e4"
      },
      "source": [
        "### A Biblioteca Matplotlib"
      ]
    },
    {
      "cell_type": "code",
      "execution_count": null,
      "id": "8653f343",
      "metadata": {
        "id": "8653f343"
      },
      "outputs": [],
      "source": [
        "# Imprimindo-se um gráfico com o utras configurações\n",
        "x = np.linspace(0, 2*np.pi, 50)\n",
        "f1 = np.sin(x)\n",
        "f2 = np.cos(x)\n",
        "f3 = np.sin(x - np.pi/2)\n",
        "\n",
        "plt.subplots()\n",
        "plt.grid()\n",
        "plt.plot(x, f1, 'ro', 'r')\n",
        "plt.plot(x, f2, 'bo')\n",
        "plt.plot(x, f3, color='green', marker='^', linestyle='dashed', linewidth=2, markersize=10)\n",
        "plt.title('Gráfico da Raíz Quadrada')\n",
        "plt.xlabel('Texto do Eixo x')\n",
        "plt.ylabel('Texto do Eixo y')\n",
        "plt.axis([0, 2*np.pi, -1, 1])\n",
        "plt.show()"
      ]
    },
    {
      "cell_type": "markdown",
      "id": "3e0678f5",
      "metadata": {
        "id": "3e0678f5"
      },
      "source": [
        "### Exercício - Bibliotecas NumPy e Matplotlib\n",
        "\n",
        "Utilize as bibliotecas do NumPy e do Matplotlib para se imprimir um gráfico de três senos, cada um espaçado de pi/2 radianos do anterior. Adicione um título para o gráfico, um rótulo para o eixo 'x', um rótulo para o eixo 'y', e use a documentação e os exemplos da biblioteca para se obter uma legenda das 3 funções impressas.\n",
        "\n",
        "OBS: verifique com quantos pontos o gráfico parece contínuo, quando não é mais possível se distinguir os valores discretos (o gráfico não parece mais ser formado por segmentos de retas)"
      ]
    },
    {
      "cell_type": "code",
      "execution_count": null,
      "id": "2519c803",
      "metadata": {
        "id": "2519c803"
      },
      "outputs": [],
      "source": [
        "import matplotlib.pyplot as plt\n",
        "\n",
        "x = np.linspace(0, 2*np.pi, 1000)\n",
        "f1 = np.sin(x)\n",
        "f2 = np.sin(x - np.pi/2)\n",
        "f3 = np.sin(x - np.pi)\n",
        "\n",
        "plt.subplots()\n",
        "plt.plot(x, f1, label = 'Função 1')\n",
        "plt.plot(x, f2, label = 'Função 2')\n",
        "plt.plot(x, f3, label = 'Função 3')\n",
        "plt.title('Gráfico da Raíz Quadrada')\n",
        "plt.xlabel('Texto do Eixo x')\n",
        "plt.ylabel('Texto do Eixo y')\n",
        "plt.legend()\n",
        "plt.show()"
      ]
    },
    {
      "cell_type": "markdown",
      "id": "fc7e5784",
      "metadata": {
        "id": "fc7e5784"
      },
      "source": [
        "### Exercício - Bibliotecas NumPy e Matplotlib\n",
        "\n",
        "Imprima um gráfico de três funções exponenciais: exp(x), exp(2x) e exp(3x), para x de 0 a 1. Mude os limites de impressão dos eixos para que todos os gráficos apareçam na figura com boa visualização de suas diferenças. Use valores distintos para as espessuras da linha de impressão das funções (espessuras de 1 a 3), e crie uma legenda."
      ]
    },
    {
      "cell_type": "code",
      "execution_count": null,
      "id": "2fb470e0",
      "metadata": {
        "id": "2fb470e0"
      },
      "outputs": [],
      "source": [
        "import matplotlib.pyplot as plt\n",
        "import numpy as np\n",
        "x = np.linspace(0, 1, 1000)\n",
        "\n",
        "f1 = np.exp(x)\n",
        "f2 = np.exp(2*x)\n",
        "f3 = np.exp(3*x)\n",
        "\n",
        "plt.subplots()\n",
        "plt.plot(x, f1, label = 'Função $e^x$', linewidth = 1.0)\n",
        "plt.plot(x, f2, label = 'Função $e^{2x}$', linewidth = 2.0)\n",
        "plt.plot(x, f3, label = 'Função $e^{3x}$', linewidth = 3.0)\n",
        "plt.title('Gráfico da Raíz Quadrada')\n",
        "plt.xlabel('Texto do Eixo x')\n",
        "plt.ylabel('Texto do Eixo y')\n",
        "plt.axis([0, 1, 0, 10])\n",
        "plt.legend()\n",
        "plt.show()"
      ]
    },
    {
      "cell_type": "markdown",
      "id": "bd832a37",
      "metadata": {
        "id": "bd832a37"
      },
      "source": [
        "### Outros Exemplos do Matplotlib"
      ]
    },
    {
      "cell_type": "code",
      "execution_count": null,
      "id": "de6acca1",
      "metadata": {
        "id": "de6acca1"
      },
      "outputs": [],
      "source": [
        "import matplotlib.pyplot as plt\n",
        "\n",
        "x = np.linspace(0, 1, 1000)\n",
        "\n",
        "f1 = x**2\n",
        "f2 = x**3\n",
        "\n",
        "fig, ax = plt.subplots(1, 2)\n",
        "ax[0].plot(x, f1)\n",
        "ax[1].plot(x, f2)\n",
        "ax[0].set_title('Gráfico da Raíz Quadrada')\n",
        "ax[1].set_title('Gráfico da Raíz Cúbica')\n",
        "ax[0].set_xlabel('Posição [m]')\n",
        "ax[1].set_xlabel('Posição [m]')\n",
        "ax[0].set_ylabel('Velocidade [m$^2$]')\n",
        "ax[1].set_ylabel('Velocidade [m$^2$]')\n",
        "fig.tight_layout(pad=1.0)\n",
        "plt.show()"
      ]
    },
    {
      "cell_type": "markdown",
      "id": "f63f6d88",
      "metadata": {
        "id": "f63f6d88"
      },
      "source": [
        "### Exercício - Imprimindo-se um Gráfico com Ruído\n",
        "\n",
        "Utilize a biblioteca Matplotlib para imprimir o gráfico das funções cúbica e quadrática de \"x\" em uma só figura, um em cada sub-figura. Utilize a biblioteca \"Random\" um laço \"for\" para adicionar um suave ruído sobreposto à esses gráficos. Adicione título e rótulos aos eixos de cada gráfico, separadamente, e um título principal na região superior da figura.\n",
        "\n",
        "OBS1: Utilize um número de pontos \"x\" (que é o argumento da função) que permita a visualização do ruído (não use muitos pontos).\n",
        "OBS2: Você pode criar números aleatórios inteiros, e multiplicá-los por um valor menor que 1 para adicionar um ruído suáve."
      ]
    },
    {
      "cell_type": "code",
      "execution_count": null,
      "id": "5ce42e9a",
      "metadata": {
        "id": "5ce42e9a"
      },
      "outputs": [],
      "source": [
        "import matplotlib.pyplot as plt\n",
        "import random\n",
        "\n",
        "x = np.linspace(0, 1, 200)\n",
        "\n",
        "f1 = x**2\n",
        "f2 = x**3\n",
        "\n",
        "for n in range(len(x)):\n",
        "    f1[n] += 0.01*random.randint(-10, 10)\n",
        "    f2[n] += 0.01*random.randint(-10, 10)\n",
        "\n",
        "fig, ax = plt.subplots(1, 2)\n",
        "ax[0].plot(x, f1)\n",
        "ax[1].plot(x, f2)\n",
        "ax[0].set_title('Gráfico da Raíz Quadrada')\n",
        "ax[1].set_title('Gráfico da Raíz Cúbica')\n",
        "ax[0].set_xlabel('Posição [m]')\n",
        "ax[1].set_xlabel('Posição [m]')\n",
        "ax[0].set_ylabel('Velocidade [m$^2$]')\n",
        "ax[1].set_ylabel('Velocidade [m$^2$]')\n",
        "fig.tight_layout(pad=1.0)\n",
        "plt.show()"
      ]
    },
    {
      "cell_type": "markdown",
      "id": "ca0a1d30",
      "metadata": {
        "id": "ca0a1d30"
      },
      "source": [
        "### Matplotlib - Imprimindo-se em Sub-Figuras"
      ]
    },
    {
      "cell_type": "code",
      "execution_count": null,
      "id": "89c635aa",
      "metadata": {
        "id": "89c635aa"
      },
      "outputs": [],
      "source": [
        "import numpy as np\n",
        "import matplotlib.pyplot as plt\n",
        "\n",
        "x = np.linspace(0, 4, 100)\n",
        "fig, ax = plt.subplots(2, 2)\n",
        "\n",
        "# Imprimindo-se valores nas sub-figuras\n",
        "ax[0, 0].plot(x, np.exp(-x))\n",
        "ax[0, 1].plot(x, np.exp(-2*x))\n",
        "ax[1, 0].plot(x, np.exp(-3*x))\n",
        "ax[1, 1].plot(x, np.exp(-4*x))\n",
        "# Imprimindo-se sub-títulos\n",
        "ax[0, 0].set_title('$e^{-x}$')\n",
        "ax[0, 1].set_title('$e^{-2x}$')\n",
        "ax[1, 0].set_title('$e^{-3x}$')\n",
        "ax[1, 1].set_title('$e^{-4x}$')\n",
        "# Ajustando-se o espaçamento entre os gráficos\n",
        "fig.tight_layout(pad=1.0)"
      ]
    },
    {
      "cell_type": "markdown",
      "id": "0981bd29",
      "metadata": {
        "id": "0981bd29"
      },
      "source": [
        "### Exercício - Imprimindo-se em Sub-Figuras\n",
        "\n",
        "Desenvolva um algoritmo que imprima senos em Sub-Figuras, com um número de linhas e colunas variável (pode se mudar a variável do número de linhas e colunas da Figura alterando-se uma variável numerica (por examplo, linhas=2 e colunas=3). Faça com que o argumento do seno aumente de pi/2 a cada coluna que se aumente (começando-se em 0), e o argumento do seno também seja multiplicado pelo número da linha impressa (começando-se em 1)."
      ]
    },
    {
      "cell_type": "code",
      "execution_count": null,
      "id": "b7ff9dcf",
      "metadata": {
        "id": "b7ff9dcf"
      },
      "outputs": [],
      "source": [
        "import numpy as np\n",
        "import matplotlib.pyplot as plt\n",
        "\n",
        "x = np.linspace(0, 2*np.pi, 100)\n",
        "\n",
        "linhas = 3\n",
        "colunas = 3\n",
        "fig, ax = plt.subplots(linhas, colunas)\n",
        "for l in range(0, linhas):\n",
        "    for c in range(0, colunas):\n",
        "        ax[l, c].plot(x, np.sin((l+1)*(x+c*np.pi/2)))\n",
        "        ax[l, c].set_title(f'sen({l+1}(x+{c}($\\pi/2$)))')\n",
        "fig.tight_layout(pad=1.0)"
      ]
    },
    {
      "cell_type": "markdown",
      "id": "4817aecb",
      "metadata": {
        "id": "4817aecb"
      },
      "source": [
        "### Exercício - De Volta ao \"For\"\n",
        "\n",
        "Desenvolva um algoritmo que imprima três gráfigos em uma só linha de uma figura, ponto a ponto, utilizando-se somete um \"For\". O primeiro gráfico será os valores numéricos do iterável do \"For\" (\"n\"), o segundo gráfico será o argumento \"x\" de uma funçao (de 0 a 1 com 11 valores), e o terceiro gráfico será a função \"f(x) = x elevado ao quadrado\".\n",
        "\n",
        "OBS1: Para se imprimir a função, defina ela antes, no início do prorama, e vá chamando-a ao longo do \"For\".\n",
        "OBS2: Procure fazer somente 1 laço \"For\".\n",
        "OBS3: Utilize o iterável \"n\"como \"eixo x\", e o mais importante, interprete os valores do gráfico, e escreva uma breve discussão sobre a diferença entre \"x\" \"n\" para \"f\", ou seja, qual a diferença entre \"f[n]\" e \"f(x)\"."
      ]
    },
    {
      "cell_type": "code",
      "execution_count": null,
      "id": "4bfd7083",
      "metadata": {
        "id": "4bfd7083"
      },
      "outputs": [],
      "source": [
        "import numpy as np\n",
        "import matplotlib.pyplot as plt\n",
        "\n",
        "x = np.linspace(0, 1, 11)\n",
        "\n",
        "f = x**2\n",
        "\n",
        "fig, ax = plt.subplots(1, 3)\n",
        "for n in range(len(x)):\n",
        "    ax[0].plot(n, n, marker='s', markersize=4.0)\n",
        "    ax[1].plot(n, x[n], marker='s', markersize=4.0)\n",
        "    ax[2].plot(n, f[n], marker='s', markersize=4.0)\n",
        "plt.show()"
      ]
    },
    {
      "cell_type": "markdown",
      "id": "1f32d033",
      "metadata": {
        "id": "1f32d033"
      },
      "source": [
        "### Exercício - De Volta ao Laço \"For\"\n",
        "\n",
        "Desenvolva um algoritmo que imprima uma matriz com o número de linhas e de colunas variável (posso mudar o número de linhas ou colunas mudando-se variáveis numéricas). Adicione elementos à essa matriz, elemento a elemento, sendo que os elementos a serem adicionados sigam uma função quadrática \"f(x) = x**2\", com argumento \"x\" indo de 0 à 10. Por exemplo, uma matriz 2x2 ficará como segue:\n",
        "[[  0.    11.1]\n",
        " [ 44.4   100 ]]\n",
        "\n",
        "Dica: Utilize um contador, por exemplo \"count\", que iniciará em zero e sera acrescido de 1 em 1, para contar quantos itens já foram adicionados à matriz, e servir de argumento para a função 'f[n]'."
      ]
    },
    {
      "cell_type": "code",
      "execution_count": null,
      "id": "4ab5e6a0",
      "metadata": {
        "id": "4ab5e6a0"
      },
      "outputs": [],
      "source": [
        "import numpy as np\n",
        "import matplotlib.pyplot as plt\n",
        "import random as rd\n",
        "\n",
        "linhas  = 3\n",
        "colunas = 3\n",
        "x = np.linspace(0, 10, linhas*colunas)\n",
        "f = x**2\n",
        "\n",
        "matriz = np.zeros([linhas, colunas])\n",
        "\n",
        "count = 0\n",
        "for l in range(linhas):\n",
        "    for c in range(colunas):\n",
        "        matriz[l, c] = f[count]\n",
        "        count += 1\n",
        "\n",
        "print(matriz)"
      ]
    },
    {
      "cell_type": "markdown",
      "id": "07936992",
      "metadata": {
        "id": "07936992"
      },
      "source": [
        "### Exercício - Repita o Exercício Anterior\n",
        "\n",
        "Repita o exercício anterior utilizando-se laços \"while\" em vez de \"for\""
      ]
    },
    {
      "cell_type": "code",
      "execution_count": null,
      "id": "d5df1b21",
      "metadata": {
        "id": "d5df1b21"
      },
      "outputs": [],
      "source": [
        "import numpy as np\n",
        "import matplotlib.pyplot as plt\n",
        "import random as rd\n",
        "\n",
        "linhas = 3\n",
        "colunas = 3\n",
        "x = np.linspace(0, 10, linhas*colunas)\n",
        "f = x**2\n",
        "\n",
        "matriz = np.zeros([linhas, colunas])\n",
        "\n",
        "count = 0\n",
        "count_l = 0\n",
        "while count_l < linhas:\n",
        "    count_c = 0\n",
        "    while count_c < colunas:\n",
        "        matriz[count_l, count_c] = f[count]\n",
        "        count += 1\n",
        "        count_c += 1\n",
        "    count_l += 1\n",
        "\n",
        "print(matriz)"
      ]
    },
    {
      "cell_type": "markdown",
      "id": "f150d53b",
      "metadata": {
        "id": "f150d53b"
      },
      "source": [
        "### Exercício - Exercício Avançado de \"For\"\n",
        "\n",
        "Insira elementos em uma matriz 3x3, item a item, aleatoriamente (com valores de 1 a 10), até que a média dos valores da matriz ultrapasse 4. Se isso acontecer, pare de inserir os elementos, e imprima a matriz ao final do programa. Para cada linha ou coluna completada, caso a condição \"média da matriz > 4\" não tenha sido satisfeita, imprima qual a linha (ou coluna) que foi completada. Caso toda a matriz tenha sido completada, imprima \"Matriz concluída!\".\n",
        "\n",
        "OBS: Não utilize novos \"if\" para imprimir se a coluna, linha, ou matriz foi concluída, utilize os \"else\" das condicionais já definidas, ou utilize \"elif\"."
      ]
    },
    {
      "cell_type": "code",
      "execution_count": null,
      "id": "c9bc1756",
      "metadata": {
        "id": "c9bc1756"
      },
      "outputs": [],
      "source": [
        "import numpy as np\n",
        "import random\n",
        "\n",
        "matriz = np.zeros([3,3])\n",
        "\n",
        "flag = False\n",
        "count_linha = 0\n",
        "count_coluna = 0\n",
        "for l in range(0, 3):\n",
        "    for c in range(0, 3):\n",
        "        item = random.randint(1, 10)\n",
        "        matriz[l, c] = item\n",
        "        if np.mean(matriz)>4:\n",
        "            flag = True\n",
        "            break\n",
        "        elif l == 2:\n",
        "            count_coluna += 1\n",
        "            print(f'Concluiu-se a {count_coluna}a coluna')\n",
        "    if flag == True:\n",
        "        break\n",
        "    else:\n",
        "        count_linha += 1\n",
        "        print(f'Concluiu-se a {count_linha}a linha')\n",
        "else:\n",
        "    print(f'Concluiu-se a matriz!')\n",
        "\n",
        "print(matriz)"
      ]
    },
    {
      "cell_type": "markdown",
      "id": "6503adec",
      "metadata": {
        "id": "6503adec"
      },
      "source": [
        "### Exercício - \"For\" Aninhado em \"For\"\n",
        "\n",
        "Insira elementos em um arrey multidimensional 3x3x3, item a item, até que a média de cada uma das matriz 3x3 em seu interior ultrapasse 5. Se isso acontecer, pare de inserir elementos na dada matriz 3x3 e passe para a próxima matriz 3x3 (serão 3 matrizes 3x3). Para cada linha, coluna, ou matriz 3x3 completada, caso a condição \"média da matriz > 5\" não tenha sido satisfeita, imprima qual a linha, coluna ou matriz completada. Caso todo o array tenha sido completado, imprima \"Array concluído!\".\n",
        "\n",
        "OBS: Não utilize novos \"if\" para imprimir se a coluna, linha, ou matriz foi concluída, utilize os \"else\" das condicionais já definidas, ou somente mais 1 \"elif\"."
      ]
    },
    {
      "cell_type": "code",
      "execution_count": null,
      "id": "7c18942f",
      "metadata": {
        "id": "7c18942f"
      },
      "outputs": [],
      "source": [
        "import numpy as np\n",
        "import random\n",
        "\n",
        "array = np.zeros([3,3,3])\n",
        "\n",
        "flag = False\n",
        "for m in range(0, 3):\n",
        "    count_col = 0\n",
        "    count_lin = 0\n",
        "    for l in range(0, 3):\n",
        "        for c in range(0, 3):\n",
        "            item = random.randint(1, 10)\n",
        "            array[m, l, c] = item\n",
        "            if np.mean(array[m,:,:])>5:\n",
        "                flag = True\n",
        "                break\n",
        "            elif l == 2:\n",
        "                count_col += 1\n",
        "                print(f'Concluiu-se a {count_col}a coluna')\n",
        "        if flag == True:\n",
        "            break\n",
        "        else:\n",
        "            count_lin += 1\n",
        "            print(f'Concluiu-se a {count_lin}a linha')\n",
        "    else:\n",
        "        print(f'Concluiu-se a {m+1}a matriz!')\n",
        "    flag = False\n",
        "\n",
        "print(array)"
      ]
    },
    {
      "cell_type": "markdown",
      "id": "913e6cbb",
      "metadata": {
        "id": "913e6cbb"
      },
      "source": [
        "### Algumas Estruturas de Dado - Listas, Dicionários e Tuplas"
      ]
    },
    {
      "cell_type": "code",
      "execution_count": null,
      "id": "a911949c",
      "metadata": {
        "id": "a911949c"
      },
      "outputs": [],
      "source": [
        "# Manipulação de uma 'string'\n",
        "nome = 'João'\n",
        "print(type(nome))\n",
        "frase = nome + ' é da Telecom'\n",
        "\n",
        "# Indexação da lista (imprimindo-se partes da lista)\n",
        "print(frase)        # Imprime a frase toda\n",
        "print(frase[0:1])   # Imprime a letra 'J'\n",
        "print(frase[0:4])   # Imprime 'João'\n",
        "\n",
        "# Em uma lista, posso agrupar difetentes estruturas de dado:\n",
        "lista = ['João', int(1), 2/3]    # list() transforma algo em lista\n",
        "print(f'O tamanho da lista é {len(lista)}')\n",
        "\n",
        "# Utiliza-se '.append()' para adicionar uma variável à lista\n",
        "lista.append('carro')\n",
        "lista.append(1.5)\n",
        "print(lista)\n",
        "\n",
        "# O comando lista.pop(n)' remove um elemento da lista na n-ésima posição\n",
        "lista.pop()    # removendo-se o último elemento\n",
        "lista.pop(1)   # removendo-se o elemento de índice 1 (2º elemento)\n",
        "print(lista)\n",
        "\n",
        "# Já o comando 'lista.remove(item)', remove o 'item' em específico\n",
        "lista.remove(2/3)\n",
        "print(lista)\n",
        "\n",
        "# Existem diversas outras operações built-in (que já vem com o Python) para listas!"
      ]
    },
    {
      "cell_type": "markdown",
      "id": "8aaf8cb1",
      "metadata": {
        "id": "8aaf8cb1"
      },
      "source": [
        "### Algumas Estruturas de Dado - Listas, Dicionários e Tuplas"
      ]
    },
    {
      "cell_type": "code",
      "execution_count": null,
      "id": "eae6c0c6",
      "metadata": {
        "id": "eae6c0c6"
      },
      "outputs": [],
      "source": [
        "# Criando-se um dicionário\n",
        "dicionario = {\"cor\": 'vermelha', \"altura\":1.8}\n",
        "dicionario = dict(nome = \"João\", idade = 36, pais = \"Brasil\")\n",
        "\n",
        "# Criando-se um dicionário\n",
        "carro = {\n",
        "  \"marca\": \"Ford\",\n",
        "  \"eletrico\": False,\n",
        "  \"ano\": 2018,\n",
        "  \"cores\": [\"vermelho\", \"branco\", \"prata\"]\n",
        "}\n",
        "\n",
        "print(carro)\n",
        "print(f'Este carro é da marca {carro[\"marca\"]}, e ano {carro[\"ano\"]}')\n",
        "\n",
        "# Definindo uma tupla\n",
        "a = (1, 2, 3)\n",
        "a = ('João', int(2), 10/3, complex(2+j))\n",
        "\n",
        "print(a)\n",
        "type(a)\n",
        "\n",
        "# Existe também o tipo de dado 'set', porém não será abordado nesta disciplina\n",
        "\n",
        "# Um pouco do Python pode ser aprendido em:\n",
        "# https://www.w3schools.com/  (não é somente python)"
      ]
    },
    {
      "cell_type": "markdown",
      "id": "0e1dc950",
      "metadata": {
        "id": "0e1dc950"
      },
      "source": [
        "### Utilizando-se Funções no Python"
      ]
    },
    {
      "cell_type": "code",
      "execution_count": null,
      "id": "9d0713bd",
      "metadata": {
        "id": "9d0713bd"
      },
      "outputs": [],
      "source": [
        "def function():\n",
        "    print('Função executada com sucesso!')\n",
        "\n",
        "function()\n",
        "\n",
        "# De preferência por não utilizar ç, ~ ou acentos\n",
        "def função(nome):\n",
        "    print(f'Imprima o nome {nome}')\n",
        "\n",
        "função('João')\n",
        "\n",
        "# Utilizando-se o returno\n",
        "def function2(nome):\n",
        "    return f'O nome dele é {nome}'\n",
        "\n",
        "result = function2('Maria')\n",
        "print(result)\n",
        "\n",
        "def operacao(a, b, operador):\n",
        "    if operador == 'soma':\n",
        "        return(a+b)\n",
        "    elif operador == 'multiplicação':\n",
        "        return(a*b)\n",
        "\n",
        "resultado = operacao(3, 4, 'soma')\n",
        "resultado = operacao(a=3, b=4, operador='multiplicação')"
      ]
    },
    {
      "cell_type": "markdown",
      "id": "045f5335",
      "metadata": {
        "id": "045f5335"
      },
      "source": [
        "### Exercício - Como Utilizar Funções\n",
        "\n",
        "Crie uma *lista* com diversos elementos de uma sacola de compras. Utilize uma *função* para se remover os itens da sacola que o usuário quiser remover. Interaja por três vezes com o usuário por meio do comando 'input'. Caso o usuário escolha a opção 'qualquer', remova o último item da sacola."
      ]
    },
    {
      "cell_type": "code",
      "execution_count": null,
      "id": "375d764a",
      "metadata": {
        "id": "375d764a"
      },
      "outputs": [],
      "source": [
        "sacola = ['leite', 'arroz', 'feijão', 'pasta de dentes', 'limão', 'sabão em pó']\n",
        "\n",
        "def function(sacola, item):\n",
        "    if item in sacola:\n",
        "        sacola.remove(item)\n",
        "    else:\n",
        "        print(f'O item {item} não está na sacola..')\n",
        "\n",
        "count = 3\n",
        "while count>0:\n",
        "    print('Os itens da sacola são:\\n', sacola)\n",
        "    item = input('\\nDigite o nome do item a ser removido da sacola\\n')\n",
        "    # removendo-se o item da sacola\n",
        "    if item == 'qualquer':\n",
        "        sacola.pop()\n",
        "    else:\n",
        "        function(sacola, item)\n",
        "    count -= 1\n",
        "print('Os itens da sacola são:\\n', sacola)"
      ]
    },
    {
      "cell_type": "markdown",
      "id": "8cf1c4b7",
      "metadata": {
        "id": "8cf1c4b7"
      },
      "source": [
        "### Exercício - Adicionando-se Itens ao Carrinho\n",
        "\n",
        "Desenvolva um programa que adicione itens à uma sacola/carrinho de mercado. Para tanto, inicie um dicionário nulo, e desenvolva uma função que tem como parâmetros de entrada um `dicionário`, uma `chave`, e um `valor`. A cada vez que o seu programa chamar a função, ela adicionará um novo item a esse dicionário (adicionará uma chave, e um valor atrelado à essa chave, por exemplo, `chave: valor` igual à `'fruta': 'laranja'`). Quando essa função encontrar uma chave que já existe no dicionário, ela deve verificar se a chave é uma lista, e caso isso aconteça, ela vai somar esse novo valor à essa lista. Caso a chave possua somente uma `string`, a função deve criar uma lista, contendo a `string` anterior, e o novo `valor` que entrou na função para ser adicionado.\n",
        "\n",
        "OBS1: Utilize as chaves e os valores como elementos `string` neste exemplo\n",
        "OBS2: Utilize `type(dicionario[chave]) == list` para verificar se o valor da chave é do tipo `list` ou uma `string`"
      ]
    },
    {
      "cell_type": "code",
      "execution_count": null,
      "id": "1ca49a84",
      "metadata": {
        "id": "1ca49a84"
      },
      "outputs": [],
      "source": []
    },
    {
      "cell_type": "markdown",
      "id": "fca1f824",
      "metadata": {
        "id": "fca1f824"
      },
      "source": [
        "### Exercício de Prova - Para onde tende a média\n",
        "\n",
        "Crie uma matriz com valores distribuídos aleatoriamente entre 1 e 10, sendo o número de linhas e de colunas determinados por duas variáveis numéricas. Imprima um gráfico da média e do desvio padrão dos elementos da matriz, utilizando-se duas subfiguras da biblioteca Matplotlib (uma para a média e outra para o desvio), de forma que a média e o desvio padrão sejam calculados acumuladamente, elemento a elemento, passando-se por todas as linhas e colunas da matriz.\n",
        "\n",
        "Exemplo: Se a matriz for 3x3:<br>[[1, 2, 3],<br> [4, 5, 6],<br> [7, 8, 9]],<br> a função da média, por exemplo, será [1, 1.5, 2, 2.5, 3, 3.5, 4, 4.5]]. Ou seja, o primeiro valor da função será 1, o segundo será a média dos valores [1, 2], o terceiro será a média dos valores [1, 2, 3], o quarto será a média dos valores [1, 2, 3, 4], e assim por diante.\n",
        "\n",
        "OBS: Se preferir, \"achate\" a matriz em um longo vetor de uma só linha antes de se calcular a média e o desvio padrão. Por exemplo, achatando-se a matriz exemplificada anteriormente, teremos o vetor: [1, 2, 3, 4, 5, 6, 7, 8, 9].\n",
        "\n",
        "Discussão: responda à quais valores tendem a média e o desvio padrão, se o número de elementos da matriz tendem ao infinito, e por que."
      ]
    },
    {
      "cell_type": "code",
      "execution_count": null,
      "id": "3e272a0a",
      "metadata": {
        "id": "3e272a0a"
      },
      "outputs": [],
      "source": []
    }
  ],
  "metadata": {
    "celltoolbar": "Slideshow",
    "colab": {
      "provenance": []
    },
    "kernelspec": {
      "display_name": "Python 3 (ipykernel)",
      "language": "python",
      "name": "python3"
    },
    "language_info": {
      "codemirror_mode": {
        "name": "ipython",
        "version": 3
      },
      "file_extension": ".py",
      "mimetype": "text/x-python",
      "name": "python",
      "nbconvert_exporter": "python",
      "pygments_lexer": "ipython3",
      "version": "3.9.12"
    }
  },
  "nbformat": 4,
  "nbformat_minor": 5
}