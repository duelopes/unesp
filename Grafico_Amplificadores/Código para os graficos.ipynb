{
 "cells": [
  {
   "cell_type": "markdown",
   "id": "96601101",
   "metadata": {},
   "source": [
    "# Código de regressão para os amplificadores"
   ]
  },
  {
   "cell_type": "code",
   "execution_count": 197,
   "id": "3d011ae7",
   "metadata": {},
   "outputs": [],
   "source": [
    "import pandas as pd\n",
    "import numpy as np\n",
    "#Geração de gráficos:\n",
    "import matplotlib.pyplot as plt\n",
    "%matplotlib qt"
   ]
  },
  {
   "cell_type": "markdown",
   "id": "e51d6c0f",
   "metadata": {},
   "source": [
    "## Arquivo com 1GHz com tensão 2.8V"
   ]
  },
  {
   "cell_type": "code",
   "execution_count": 222,
   "id": "519ee937",
   "metadata": {},
   "outputs": [],
   "source": [
    "df = pd.read_excel(\"Freq_1G_2.8V.xlsx\")\n",
    "data = df.to_numpy()"
   ]
  },
  {
   "cell_type": "code",
   "execution_count": 223,
   "id": "d2f48dab",
   "metadata": {},
   "outputs": [],
   "source": [
    "Pin = data[:,0]\n",
    "Pf1 = data[:,1]\n",
    "Pf2 = data[:,2]\n",
    "Ph1 = data[:,3]\n",
    "Ph2 = data[:,4]\n",
    "Pfm = 10*np.log10((10**(Pf1/10)+10**(Pf2/10))/2) \n",
    "Phm = 10*np.log10((10**(Ph1/10)+10**(Ph2/10))/2) \n",
    "\n",
    "#Pontos com Ruído\n",
    "N = 7\n",
    "Pin_red = Pin[N:]\n",
    "Phm_red = Phm[N:]\n",
    "\n",
    "#plt.figure()\n",
    "#plt.plot(Pin,Pfm,'o')\n",
    "#plt.plot(Pin,Phm,'o')\n",
    "#plt.plot(Pin_red,Phm_red,'o')"
   ]
  },
  {
   "cell_type": "code",
   "execution_count": 224,
   "id": "9d1be24e",
   "metadata": {},
   "outputs": [
    {
     "name": "stdout",
     "output_type": "stream",
     "text": [
      "[ 0.98836316 15.25747562]\n"
     ]
    }
   ],
   "source": [
    "pf = np.polyfit(Pin,Pfm,1)\n",
    "print(pf)\n",
    "\n",
    "Pin_ext = np.linspace(-30.5,20,101)\n",
    "Pf_ext = np.polyval(pf,Pin_ext)\n",
    "\n",
    "#plt.figure()\n",
    "#plt.plot(Pin,Pfm,'o')\n",
    "#plt.plot(Pin,Phm,'o')\n",
    "#plt.plot(Pin_red,Phm_red,'o')\n",
    "#plt.plot(Pin_ext,Pf_ext,'k')\n"
   ]
  },
  {
   "cell_type": "code",
   "execution_count": 225,
   "id": "6053bf3f",
   "metadata": {},
   "outputs": [
    {
     "name": "stdout",
     "output_type": "stream",
     "text": [
      "[ 2.90140233 -6.2681137 ]\n"
     ]
    },
    {
     "data": {
      "text/plain": [
       "[<matplotlib.lines.Line2D at 0x2cb187d3b50>]"
      ]
     },
     "execution_count": 225,
     "metadata": {},
     "output_type": "execute_result"
    }
   ],
   "source": [
    "ph = np.polyfit(Pin_red,Phm_red,1)\n",
    "print(ph)\n",
    "\n",
    "Pin2_ext = np.linspace(-25,20,101)\n",
    "Ph_ext = np.polyval(ph,Pin2_ext)\n",
    "\n",
    "plt.figure()\n",
    "plt.title('ZX60-2522M - Freq. central 1GHz - Tensão 2.8V')\n",
    "plt.xlabel('Potência inserida nos geradores (dBm)')\n",
    "plt.ylabel('Potência medida (dBm)')\n",
    "plt.plot(Pin,Pfm,'o')\n",
    "plt.plot(Pin,Phm,'o')\n",
    "plt.plot(Pin_red,Phm_red,'o')\n",
    "plt.plot(Pin_ext,Pf_ext,'k')\n",
    "plt.plot(Pin2_ext,Ph_ext,'k')\n"
   ]
  },
  {
   "cell_type": "markdown",
   "id": "0dc4babb",
   "metadata": {},
   "source": [
    "## Arquivo com 1GHz com tensão 5V"
   ]
  },
  {
   "cell_type": "code",
   "execution_count": 226,
   "id": "2b138a46",
   "metadata": {},
   "outputs": [],
   "source": [
    "df = pd.read_excel(\"Freq_1G_5V.xlsx\")\n",
    "data = df.to_numpy()"
   ]
  },
  {
   "cell_type": "code",
   "execution_count": 227,
   "id": "38b4abe4",
   "metadata": {},
   "outputs": [],
   "source": [
    "Pin = data[:,0]\n",
    "Pf1 = data[:,1]\n",
    "Pf2 = data[:,2]\n",
    "Ph1 = data[:,3]\n",
    "Ph2 = data[:,4]\n",
    "Pfm = 10*np.log10((10**(Pf1/10)+10**(Pf2/10))/2) \n",
    "Phm = 10*np.log10((10**(Ph1/10)+10**(Ph2/10))/2) \n",
    "\n",
    "N = 10\n",
    "Pin_red = Pin[N:]\n",
    "Phm_red = Phm[N:]\n",
    "\n",
    "#plt.figure()\n",
    "#plt.plot(Pin,Pfm,'o')\n",
    "#plt.plot(Pin,Phm,'o')\n",
    "#plt.plot(Pin_red,Phm_red,'o')"
   ]
  },
  {
   "cell_type": "code",
   "execution_count": 228,
   "id": "09660770",
   "metadata": {},
   "outputs": [
    {
     "name": "stdout",
     "output_type": "stream",
     "text": [
      "[ 0.98529965 17.73089026]\n"
     ]
    }
   ],
   "source": [
    "pf = np.polyfit(Pin,Pfm,1)\n",
    "print(pf)\n",
    "\n",
    "Pin_ext = np.linspace(-30.5,20,101)\n",
    "Pf_ext = np.polyval(pf,Pin_ext)\n",
    "\n",
    "#plt.figure()\n",
    "#plt.plot(Pin,Pfm,'o')\n",
    "#plt.plot(Pin,Phm,'o')\n",
    "#plt.plot(Pin_red,Phm_red,'o')\n",
    "#plt.plot(Pin_ext,Pf_ext,'k')\n"
   ]
  },
  {
   "cell_type": "code",
   "execution_count": 229,
   "id": "d1eb9108",
   "metadata": {},
   "outputs": [
    {
     "name": "stdout",
     "output_type": "stream",
     "text": [
      "[  2.60173268 -10.70344054]\n"
     ]
    },
    {
     "data": {
      "text/plain": [
       "[<matplotlib.lines.Line2D at 0x2cb18989610>]"
      ]
     },
     "execution_count": 229,
     "metadata": {},
     "output_type": "execute_result"
    }
   ],
   "source": [
    "ph = np.polyfit(Pin_red,Phm_red,1)\n",
    "print(ph)\n",
    "\n",
    "Pin2_ext = np.linspace(-20.5,20,101)\n",
    "Ph_ext = np.polyval(ph,Pin2_ext)\n",
    "\n",
    "plt.figure()\n",
    "plt.title('ZX60-2522M - Freq. central 1GHz - Tensão 5V')\n",
    "plt.xlabel('Potência inserida nos geradores (dBm)')\n",
    "plt.ylabel('Potência medida (dBm)')\n",
    "plt.plot(Pin,Pfm,'o')\n",
    "plt.plot(Pin,Phm,'o')\n",
    "plt.plot(Pin_red,Phm_red,'o')\n",
    "plt.plot(Pin_ext,Pf_ext,'k')\n",
    "plt.plot(Pin2_ext,Ph_ext,'k')"
   ]
  },
  {
   "cell_type": "markdown",
   "id": "045b2191",
   "metadata": {},
   "source": [
    "## Arquivo com 1GHz com tensão 12V"
   ]
  },
  {
   "cell_type": "code",
   "execution_count": 230,
   "id": "116c8fa0",
   "metadata": {},
   "outputs": [],
   "source": [
    "df = pd.read_excel(\"Freq_1G_12V.xlsx\")\n",
    "data = df.to_numpy()"
   ]
  },
  {
   "cell_type": "code",
   "execution_count": 231,
   "id": "dbfb0eb4",
   "metadata": {},
   "outputs": [],
   "source": [
    "Pin = data[:,0]\n",
    "Pf1 = data[:,1]\n",
    "Pf2 = data[:,2]\n",
    "Ph1 = data[:,3]\n",
    "Ph2 = data[:,4]\n",
    "Pfm = 10*np.log10((10**(Pf1/10)+10**(Pf2/10))/2) \n",
    "Phm = 10*np.log10((10**(Ph1/10)+10**(Ph2/10))/2) \n",
    "\n",
    "N = 10\n",
    "Pin_red = Pin[N:]\n",
    "Phm_red = Phm[N:]\n",
    "\n",
    "#plt.figure()\n",
    "#plt.plot(Pin,Pfm,'o')\n",
    "#plt.plot(Pin,Phm,'o')\n",
    "#plt.plot(Pin_red,Phm_red,'o')"
   ]
  },
  {
   "cell_type": "code",
   "execution_count": 232,
   "id": "d8401bb9",
   "metadata": {},
   "outputs": [
    {
     "name": "stdout",
     "output_type": "stream",
     "text": [
      "[ 0.97031481 25.71827157]\n"
     ]
    }
   ],
   "source": [
    "pf = np.polyfit(Pin,Pfm,1)\n",
    "print(pf)\n",
    "\n",
    "Pin_ext = np.linspace(-30.5,10,101)\n",
    "Pf_ext = np.polyval(pf,Pin_ext)\n",
    "\n",
    "#plt.figure()\n",
    "#plt.plot(Pin,Pfm,'o')\n",
    "#plt.plot(Pin,Phm,'o')\n",
    "#plt.plot(Pin_red,Phm_red,'o')\n",
    "#plt.plot(Pin_ext,Pf_ext,'k')\n"
   ]
  },
  {
   "cell_type": "code",
   "execution_count": 233,
   "id": "a49cfab5",
   "metadata": {},
   "outputs": [
    {
     "name": "stdout",
     "output_type": "stream",
     "text": [
      "[ 3.86688123 18.83869526]\n"
     ]
    },
    {
     "data": {
      "text/plain": [
       "[<matplotlib.lines.Line2D at 0x2cb18b664c0>]"
      ]
     },
     "execution_count": 233,
     "metadata": {},
     "output_type": "execute_result"
    }
   ],
   "source": [
    "ph = np.polyfit(Pin_red,Phm_red,1)\n",
    "print(ph)\n",
    "\n",
    "Pin2_ext = np.linspace(-20.5,10,101)\n",
    "Ph_ext = np.polyval(ph,Pin2_ext)\n",
    "\n",
    "plt.figure()\n",
    "plt.title('ZX60-2522M - Freq. central 1GHz - Tensão 12V')\n",
    "plt.xlabel('Potência inserida nos geradores (dBm)')\n",
    "plt.ylabel('Potência medida (dBm)')\n",
    "plt.plot(Pin,Pfm,'o')\n",
    "plt.plot(Pin,Phm,'o')\n",
    "plt.plot(Pin_red,Phm_red,'o')\n",
    "plt.plot(Pin_ext,Pf_ext,'k')\n",
    "plt.plot(Pin2_ext,Ph_ext,'k')"
   ]
  },
  {
   "cell_type": "markdown",
   "id": "02a41acd",
   "metadata": {},
   "source": [
    "## Arquivo com 2GHz com tensão 2.8V"
   ]
  },
  {
   "cell_type": "code",
   "execution_count": 234,
   "id": "2d6e4438",
   "metadata": {},
   "outputs": [],
   "source": [
    "df = pd.read_excel(\"Freq_2G_2.8V.xlsx\")\n",
    "data = df.to_numpy()"
   ]
  },
  {
   "cell_type": "code",
   "execution_count": 235,
   "id": "02106ab0",
   "metadata": {},
   "outputs": [],
   "source": [
    "Pin = data[:,0]\n",
    "Pf1 = data[:,1]\n",
    "Pf2 = data[:,2]\n",
    "Ph1 = data[:,3]\n",
    "Ph2 = data[:,4]\n",
    "Pfm = 10*np.log10((10**(Pf1/10)+10**(Pf2/10))/2) \n",
    "Phm = 10*np.log10((10**(Ph1/10)+10**(Ph2/10))/2) \n",
    "\n",
    "N = 6\n",
    "Pin_red = Pin[N:]\n",
    "Phm_red = Phm[N:]\n",
    "\n",
    "#plt.figure()\n",
    "#plt.plot(Pin,Pfm,'o')\n",
    "#plt.plot(Pin,Phm,'o')\n",
    "#plt.plot(Pin_red,Phm_red,'o')"
   ]
  },
  {
   "cell_type": "code",
   "execution_count": 236,
   "id": "1c850c99",
   "metadata": {},
   "outputs": [
    {
     "name": "stdout",
     "output_type": "stream",
     "text": [
      "[ 0.98494033 15.11498483]\n"
     ]
    }
   ],
   "source": [
    "pf = np.polyfit(Pin,Pfm,1)\n",
    "print(pf)\n",
    "\n",
    "Pin_ext = np.linspace(-30.5,20,101)\n",
    "Pf_ext = np.polyval(pf,Pin_ext)\n",
    "\n",
    "#plt.figure()\n",
    "#plt.plot(Pin,Pfm,'o')\n",
    "#plt.plot(Pin,Phm,'o')\n",
    "#plt.plot(Pin_red,Phm_red,'o')\n",
    "#plt.plot(Pin_ext,Pf_ext,'k')\n"
   ]
  },
  {
   "cell_type": "code",
   "execution_count": 237,
   "id": "090e0da1",
   "metadata": {},
   "outputs": [
    {
     "name": "stdout",
     "output_type": "stream",
     "text": [
      "[ 2.65460743 -5.81243483]\n"
     ]
    },
    {
     "data": {
      "text/plain": [
       "[<matplotlib.lines.Line2D at 0x2cb1971c2e0>]"
      ]
     },
     "execution_count": 237,
     "metadata": {},
     "output_type": "execute_result"
    }
   ],
   "source": [
    "ph = np.polyfit(Pin_red,Phm_red,1)\n",
    "print(ph)\n",
    "\n",
    "Pin2_ext = np.linspace(-25,20,101)\n",
    "Ph_ext = np.polyval(ph,Pin2_ext)\n",
    "\n",
    "plt.figure()\n",
    "plt.title('ZRL3500 - Freq. central 2GHz - Tensão 2.8V')\n",
    "plt.xlabel('Potência inserida nos geradores (dBm)')\n",
    "plt.ylabel('Potência medida (dBm)')\n",
    "plt.plot(Pin,Pfm,'o')\n",
    "plt.plot(Pin,Phm,'o')\n",
    "plt.plot(Pin_red,Phm_red,'o')\n",
    "plt.plot(Pin_ext,Pf_ext,'k')\n",
    "plt.plot(Pin2_ext,Ph_ext,'k')"
   ]
  },
  {
   "cell_type": "markdown",
   "id": "48545700",
   "metadata": {},
   "source": [
    "## Arquivo com 2GHz com tensão 5V"
   ]
  },
  {
   "cell_type": "code",
   "execution_count": 238,
   "id": "64cfdf88",
   "metadata": {},
   "outputs": [],
   "source": [
    "df = pd.read_excel(\"Freq_2G_5V.xlsx\")\n",
    "data = df.to_numpy()"
   ]
  },
  {
   "cell_type": "code",
   "execution_count": 239,
   "id": "878e916c",
   "metadata": {},
   "outputs": [],
   "source": [
    "Pin = data[:,0]\n",
    "Pf1 = data[:,1]\n",
    "Pf2 = data[:,2]\n",
    "Ph1 = data[:,3]\n",
    "Ph2 = data[:,4]\n",
    "Pfm = 10*np.log10((10**(Pf1/10)+10**(Pf2/10))/2) \n",
    "Phm = 10*np.log10((10**(Ph1/10)+10**(Ph2/10))/2) \n",
    "\n",
    "N = 8\n",
    "Pin_red = Pin[N:]\n",
    "Phm_red = Phm[N:]\n",
    "\n",
    "#plt.figure()\n",
    "#plt.plot(Pin,Pfm,'o')\n",
    "#plt.plot(Pin,Phm,'o')\n",
    "#plt.plot(Pin_red,Phm_red,'o')"
   ]
  },
  {
   "cell_type": "code",
   "execution_count": 240,
   "id": "2f3a32ce",
   "metadata": {},
   "outputs": [
    {
     "name": "stdout",
     "output_type": "stream",
     "text": [
      "[ 0.97033477 17.84262964]\n"
     ]
    }
   ],
   "source": [
    "pf = np.polyfit(Pin,Pfm,1)\n",
    "print(pf)\n",
    "\n",
    "Pin_ext = np.linspace(-30.5,15,101)\n",
    "Pf_ext = np.polyval(pf,Pin_ext)\n",
    "\n",
    "#plt.figure()\n",
    "#plt.plot(Pin,Pfm,'o')\n",
    "#plt.plot(Pin,Phm,'o')\n",
    "#plt.plot(Pin_red,Phm_red,'o')\n",
    "#plt.plot(Pin_ext,Pf_ext,'k')"
   ]
  },
  {
   "cell_type": "code",
   "execution_count": 241,
   "id": "871edfa6",
   "metadata": {},
   "outputs": [
    {
     "name": "stdout",
     "output_type": "stream",
     "text": [
      "[ 2.88023465 -1.30874552]\n"
     ]
    },
    {
     "data": {
      "text/plain": [
       "[<matplotlib.lines.Line2D at 0x2cb1978d220>]"
      ]
     },
     "execution_count": 241,
     "metadata": {},
     "output_type": "execute_result"
    }
   ],
   "source": [
    "ph = np.polyfit(Pin_red,Phm_red,1)\n",
    "print(ph)\n",
    "\n",
    "Pin2_ext = np.linspace(-23,15,101)\n",
    "Ph_ext = np.polyval(ph,Pin2_ext)\n",
    "\n",
    "plt.figure()\n",
    "plt.title('ZRL3500 - Freq. central 2GHz - Tensão 5V')\n",
    "plt.xlabel('Potência inserida nos geradores (dBm)')\n",
    "plt.ylabel('Potência medida (dBm)')\n",
    "plt.plot(Pin,Pfm,'o')\n",
    "plt.plot(Pin,Phm,'o')\n",
    "plt.plot(Pin_red,Phm_red,'o')\n",
    "plt.plot(Pin_ext,Pf_ext,'k')\n",
    "plt.plot(Pin2_ext,Ph_ext,'k')"
   ]
  },
  {
   "cell_type": "markdown",
   "id": "981d1ba8",
   "metadata": {},
   "source": [
    "## Arquivo com 2GHz com tensão 12V"
   ]
  },
  {
   "cell_type": "code",
   "execution_count": 242,
   "id": "ddadfb63",
   "metadata": {},
   "outputs": [],
   "source": [
    "df = pd.read_excel(\"Freq_2G_12V.xlsx\")\n",
    "data = df.to_numpy()"
   ]
  },
  {
   "cell_type": "code",
   "execution_count": 243,
   "id": "e2ec2a7f",
   "metadata": {},
   "outputs": [],
   "source": [
    "Pin = data[:,0]\n",
    "Pf1 = data[:,1]\n",
    "Pf2 = data[:,2]\n",
    "Ph1 = data[:,3]\n",
    "Ph2 = data[:,4]\n",
    "Pfm = 10*np.log10((10**(Pf1/10)+10**(Pf2/10))/2) \n",
    "Phm = 10*np.log10((10**(Ph1/10)+10**(Ph2/10))/2) \n",
    "\n",
    "N = 18\n",
    "Pin_red = Pin[N:]\n",
    "Phm_red = Phm[N:]\n",
    "\n",
    "#plt.figure()\n",
    "#plt.plot(Pin,Pfm,'o')\n",
    "#plt.plot(Pin,Phm,'o')\n",
    "#plt.plot(Pin_red,Phm_red,'o')"
   ]
  },
  {
   "cell_type": "code",
   "execution_count": 244,
   "id": "0d941519",
   "metadata": {},
   "outputs": [
    {
     "name": "stdout",
     "output_type": "stream",
     "text": [
      "[ 1.0066573  21.36062662]\n"
     ]
    }
   ],
   "source": [
    "pf = np.polyfit(Pin,Pfm,1)\n",
    "print(pf)\n",
    "\n",
    "Pin_ext = np.linspace(-30.5,60,50)\n",
    "Pf_ext = np.polyval(pf,Pin_ext)\n",
    "\n",
    "#plt.figure()\n",
    "#plt.plot(Pin,Pfm,'o')\n",
    "#plt.plot(Pin,Phm,'o')\n",
    "#plt.plot(Pin_red,Phm_red,'o')\n",
    "#plt.plot(Pin_ext,Pf_ext,'k')"
   ]
  },
  {
   "cell_type": "code",
   "execution_count": 245,
   "id": "c708b3ce",
   "metadata": {},
   "outputs": [
    {
     "name": "stdout",
     "output_type": "stream",
     "text": [
      "[  1.93943773 -31.75133349]\n"
     ]
    },
    {
     "data": {
      "text/plain": [
       "[<matplotlib.lines.Line2D at 0x2cb1c32b130>]"
      ]
     },
     "execution_count": 245,
     "metadata": {},
     "output_type": "execute_result"
    }
   ],
   "source": [
    "ph = np.polyfit(Pin_red,Phm_red,1)\n",
    "print(ph)\n",
    "\n",
    "Pin2_ext = np.linspace(-25,60,50)\n",
    "Ph_ext = np.polyval(ph,Pin2_ext)\n",
    "\n",
    "plt.figure()\n",
    "plt.title('ZRL3500 - Freq. central 2GHz - Tensão 12V')\n",
    "plt.xlabel('Potência inserida nos geradores (dBm)')\n",
    "plt.ylabel('Potência medida (dBm)')\n",
    "plt.plot(Pin,Pfm,'o')\n",
    "plt.plot(Pin,Phm,'o')\n",
    "plt.plot(Pin_red,Phm_red,'o')\n",
    "plt.plot(Pin_ext,Pf_ext,'k')\n",
    "plt.plot(Pin2_ext,Ph_ext,'k')"
   ]
  },
  {
   "cell_type": "code",
   "execution_count": null,
   "id": "cbbaef2c",
   "metadata": {},
   "outputs": [],
   "source": []
  }
 ],
 "metadata": {
  "kernelspec": {
   "display_name": "Python 3 (ipykernel)",
   "language": "python",
   "name": "python3"
  },
  "language_info": {
   "codemirror_mode": {
    "name": "ipython",
    "version": 3
   },
   "file_extension": ".py",
   "mimetype": "text/x-python",
   "name": "python",
   "nbconvert_exporter": "python",
   "pygments_lexer": "ipython3",
   "version": "3.9.13"
  }
 },
 "nbformat": 4,
 "nbformat_minor": 5
}
